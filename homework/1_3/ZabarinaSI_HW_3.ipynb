{
  "nbformat": 4,
  "nbformat_minor": 0,
  "metadata": {
    "colab": {
      "provenance": []
    },
    "kernelspec": {
      "name": "python3",
      "display_name": "Python 3"
    },
    "language_info": {
      "name": "python"
    }
  },
  "cells": [
    {
      "cell_type": "code",
      "source": [
        "import pydot"
      ],
      "metadata": {
        "id": "jNF_DeFpvY-E"
      },
      "execution_count": 51,
      "outputs": []
    },
    {
      "cell_type": "markdown",
      "source": [
        "#Вызовы Хиршберга (от 3 до 8 баллов)\n",
        "Реализуйте алгоритм, который принимал бы на вход две строки, штраф за удаления, вставки и несовпадения, а так-же цену совпадений. А возвращал бы дерево рекурсивных вызовов алгоритма Хоршберга. В вершинах дерева должны храниться пары строк, на которых будут происходит вызовы алгоритма Хиршберга.\n",
        "За 3 балла можно реализовать алгоритм используя квадрат памяти. При использовании линейного размера памяти задача стоит 8 баллов."
      ],
      "metadata": {
        "id": "XoSeWIlLmK9x"
      }
    },
    {
      "cell_type": "code",
      "source": [
        "a = 'AGTACGCA'\n",
        "b = 'TATGC'\n",
        "delet = -2\n",
        "ins = -2\n",
        "mattch = 2\n",
        "mismatch = -1"
      ],
      "metadata": {
        "id": "cJeVwyz8mUgg"
      },
      "execution_count": 120,
      "outputs": []
    },
    {
      "cell_type": "code",
      "source": [
        "def levenshtein_distance( shot_s, long_s, delet, ins, mattch, mismatch):\n",
        "    n, m = len(long_s), len(shot_s)\n",
        "    dist = [[i*ins for i in range(m+1)], [0]*(m+1)]\n",
        "    for i in range(1, n+1):\n",
        "        dist[1][0] = i*delet\n",
        "        for j in range(1, m+1):\n",
        "          if shot_s[j-1] == long_s[i-1]:\n",
        "            dist[1][j] = max(dist[0][j-1] + mattch, dist[0][j] +delet, dist[1][j-1]+ins)\n",
        "          else:\n",
        "            dist[1][j] = max(dist[0][j-1] + mismatch, dist[0][j] + delet, dist[1][j-1] + ins)\n",
        "        dist[0] = dist[1][:]\n",
        "    return dist[1]"
      ],
      "metadata": {
        "id": "QkO7_o92WtB-"
      },
      "execution_count": 125,
      "outputs": []
    },
    {
      "cell_type": "markdown",
      "source": [
        "##Проверка рассчта растояния"
      ],
      "metadata": {
        "id": "xsXe7tU836dy"
      }
    },
    {
      "cell_type": "code",
      "source": [
        "ind = 4\n",
        "s2 = a[:ind]\n",
        "d = levenshtein_distance(b, s2, delet, ins, mattch, mismatch)\n",
        "print(*d)"
      ],
      "metadata": {
        "colab": {
          "base_uri": "https://localhost:8080/"
        },
        "id": "6olf0MsSZ1zw",
        "outputId": "d2c927c7-689e-4f71-caa6-7758f363dd74"
      },
      "execution_count": 126,
      "outputs": [
        {
          "output_type": "stream",
          "name": "stdout",
          "text": [
            "-8 -4 0 -2 -1 -3\n"
          ]
        }
      ]
    },
    {
      "cell_type": "code",
      "source": [
        "d2 = levenshtein_distance(b[::-1], a[-1: ind-1:-1], -3, ins, mattch, mismatch)\n",
        "print(*d2)"
      ],
      "metadata": {
        "colab": {
          "base_uri": "https://localhost:8080/"
        },
        "id": "jx0_Jy8aatq4",
        "outputId": "566978cb-5cbb-4296-bd16-1ece413a1bea"
      },
      "execution_count": 127,
      "outputs": [
        {
          "output_type": "stream",
          "name": "stdout",
          "text": [
            "-12 -7 -2 0 -2 -4\n"
          ]
        }
      ]
    },
    {
      "cell_type": "markdown",
      "source": [
        "##Построение графа"
      ],
      "metadata": {
        "id": "BGDjT9j34AQZ"
      }
    },
    {
      "cell_type": "code",
      "source": [
        "graph = pydot.Dot(graph_type=\"graph\")\n",
        "graph.obj_dict['attributes'][\"size\"] = '\"10,10!\"'\n",
        "graph.obj_dict['attributes'][\"dpi\"] = \"144\"\n",
        "node = pydot.Node(f'({a}, {b})')\n",
        "graph.add_node(node)"
      ],
      "metadata": {
        "id": "tXBopPvwveH_"
      },
      "execution_count": 128,
      "outputs": []
    },
    {
      "cell_type": "code",
      "source": [
        "def LCS_HIRSHBERG(a, b, delet, ins, mattch, mismatch, graph):\n",
        "    a_len = len(a)\n",
        "    b_len = len(b)\n",
        "    if b_len == 0:\n",
        "        return []\n",
        "    elif b_len == 1:\n",
        "        if b[0] in a:\n",
        "            return [b[0]]\n",
        "        else:\n",
        "            return []\n",
        "    else:\n",
        "        ind_for_a = a_len // 2\n",
        "        L_left = levenshtein_distance(b, a[:ind_for_a], delet, ins, mattch, mismatch)\n",
        "        L_right = (levenshtein_distance(b[::-1], a[-1: ind_for_a-1:-1], delet, ins, mattch, mismatch))[::-1]\n",
        "        sums = [(L_left[i] + L_right[i], i) for i in range(len(L_left))]\n",
        "        _, ind_for_b = max(sums)\n",
        "\n",
        "        graph.add_node(pydot.Node(f'({a[:ind_for_a]}, {b[:ind_for_b]})'))\n",
        "        graph.add_node(pydot.Node(f'({a[ind_for_a:]}, {b[ind_for_b:]})'))\n",
        "        graph.add_edge(pydot.Edge(f'({a}, {b})', f'({a[:ind_for_a]}, {b[:ind_for_b]})'))\n",
        "        graph.add_edge(pydot.Edge(f'({a}, {b})', f'({a[ind_for_a:]}, {b[ind_for_b:]})'))\n",
        "\n",
        "        return LCS_HIRSHBERG(a[:ind_for_a], b[:ind_for_b], delet, ins, mattch, mismatch, graph) + LCS_HIRSHBERG(a[ind_for_a:], b[ind_for_b:], delet, ins, mattch, mismatch, graph)"
      ],
      "metadata": {
        "id": "U4DlQEvxdhav"
      },
      "execution_count": 129,
      "outputs": []
    },
    {
      "cell_type": "code",
      "source": [
        "print('Наибольшая общая подстрока: ', LCS_HIRSHBERG(a, b, delet, ins, mattch, mismatch, graph))"
      ],
      "metadata": {
        "colab": {
          "base_uri": "https://localhost:8080/"
        },
        "id": "xw98cXrqq8sw",
        "outputId": "43633834-313b-4f5c-d0f2-ad0068a00e01"
      },
      "execution_count": 131,
      "outputs": [
        {
          "output_type": "stream",
          "name": "stdout",
          "text": [
            "Наибольшая общая подстрока:  ['T', 'A', 'G', 'C']\n"
          ]
        }
      ]
    },
    {
      "cell_type": "code",
      "source": [
        "#Граф сохраняется картинкой\n",
        "graph.write('test.png', format='png')"
      ],
      "metadata": {
        "colab": {
          "base_uri": "https://localhost:8080/"
        },
        "id": "B-ej4s97ufoq",
        "outputId": "a30212cc-7f9d-4f61-c007-10b751c718db"
      },
      "execution_count": 132,
      "outputs": [
        {
          "output_type": "execute_result",
          "data": {
            "text/plain": [
              "True"
            ]
          },
          "metadata": {},
          "execution_count": 132
        }
      ]
    },
    {
      "cell_type": "markdown",
      "source": [
        "/content/test.png\n"
      ],
      "metadata": {
        "id": "_KlaylBnurZT"
      }
    },
    {
      "cell_type": "markdown",
      "source": [
        "# Final"
      ],
      "metadata": {
        "id": "XMb3PxT34zB1"
      }
    },
    {
      "cell_type": "code",
      "source": [
        "def get_graph(a, b, delet, ins, mattch, mismatch, name='test1.png'):\n",
        "  graph = pydot.Dot(graph_type=\"graph\")\n",
        "  graph.obj_dict['attributes'][\"size\"] = '\"10,10!\"'\n",
        "  graph.obj_dict['attributes'][\"dpi\"] = \"144\"\n",
        "  node = pydot.Node(f'({a}, {b})')\n",
        "  graph.add_node(node)\n",
        "  s = LCS_HIRSHBERG(a, b, delet, ins, mattch, mismatch, graph)\n",
        "  graph.write(name, format='png')"
      ],
      "metadata": {
        "id": "0xdtulwB4f3C"
      },
      "execution_count": 133,
      "outputs": []
    },
    {
      "cell_type": "code",
      "source": [
        "get_graph(a, 'TAT', delet, ins, mattch, mismatch, name='a.png')"
      ],
      "metadata": {
        "id": "3Zaa98xN45jh"
      },
      "execution_count": 136,
      "outputs": []
    },
    {
      "cell_type": "markdown",
      "source": [],
      "metadata": {
        "id": "90KpPzW-6-hZ"
      }
    }
  ]
}