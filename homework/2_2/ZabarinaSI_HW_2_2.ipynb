{
 "cells": [
  {
   "cell_type": "code",
   "execution_count": 1,
   "metadata": {
    "id": "p1d8w2uqEm_L"
   },
   "outputs": [],
   "source": [
    "from collections import defaultdict\n",
    "import random\n",
    "from collections import Counter\n",
    "import matplotlib.pyplot as plt"
   ]
  },
  {
   "cell_type": "code",
   "execution_count": 2,
   "metadata": {
    "id": "4LmTSnfcYCpV"
   },
   "outputs": [],
   "source": [
    "random.seed(44)"
   ]
  },
  {
   "cell_type": "code",
   "execution_count": 3,
   "metadata": {
    "colab": {
     "base_uri": "https://localhost:8080/"
    },
    "id": "KMGBCJfgV2iC",
    "outputId": "b925bc60-14d0-43c5-dcef-ab21f5952d4b"
   },
   "outputs": [],
   "source": [
    "def generate_random_dna_sequence(length):\n",
    "    return ''.join(random.choices('ACGT', k=length))\n",
    "\n",
    "dna_sequence = generate_random_dna_sequence(3000)\n",
    "# print(f\"Random DNA Sequence: {dna_sequence}\")"
   ]
  },
  {
   "cell_type": "code",
   "execution_count": 4,
   "metadata": {
    "id": "7Z1Y_9D6WJnC"
   },
   "outputs": [],
   "source": [
    "def create_random_reads(sequence, read_length, num_reads):\n",
    "    reads = []\n",
    "    seq_len = len(sequence)\n",
    "    for _ in range(num_reads):\n",
    "        start_pos = random.randint(0, seq_len - read_length)\n",
    "        read = sequence[start_pos:start_pos + read_length]\n",
    "        reads.append(read)\n",
    "    return reads\n",
    "\n",
    "def format_reads_to_fastq(reads):\n",
    "    fastq_data = []\n",
    "    for i, read in enumerate(reads):\n",
    "        quality = chr(126) * len(read)  # Максимальное качество\n",
    "        fastq_entry = f\"@read_{i+1}\\n{read}\\n+\\n{quality}\\n\"\n",
    "        fastq_data.append(fastq_entry)\n",
    "    return fastq_data"
   ]
  },
  {
   "cell_type": "markdown",
   "metadata": {
    "id": "X_bm4boOuAaE"
   },
   "source": [
    "# 1. Построение графа Де Брюина (5 баллов)"
   ]
  },
  {
   "cell_type": "markdown",
   "metadata": {
    "id": "Cwg214TFuDq1"
   },
   "source": [
    "По заданному набору ридов в формате FASTQ и параметру k, который соответствует длине k-меров, построить граф Де Брюина, некоторый путь в котором соответствовал бы возможной подстроке в исходном геноме. Не забывайте про запоминание покрытия каждого k-мера, а так же про сами подстроки, которые соответствуют каждому ребру. В остальном граф полностью соответствует тому, что был описан в лекции."
   ]
  },
  {
   "cell_type": "code",
   "execution_count": 5,
   "metadata": {
    "id": "_BzriRB5uCuS"
   },
   "outputs": [],
   "source": [
    "class KMer:\n",
    "    def __init__(self, in_degree=0, out_degree=0):\n",
    "        self.in_degree = in_degree\n",
    "        self.out_degree = out_degree\n",
    "    def __repr__(self):\n",
    "      return f'IN: {self.in_degree}, OUT: {self.out_degree}'\n",
    "\n",
    "class Edge:\n",
    "    def __init__(self, sequence, coverage):\n",
    "        self.sequence = sequence\n",
    "        self.coverage = coverage\n",
    "        self.length = len(sequence)\n",
    "    def __repr__(self):\n",
    "      return f'Seq: {self.sequence}, cov: {self.coverage}'"
   ]
  },
  {
   "cell_type": "code",
   "execution_count": 6,
   "metadata": {
    "id": "5uiUJDHDtx_Q"
   },
   "outputs": [],
   "source": [
    "def build_de_bruijn_graph(reads, k=20):\n",
    "    edges = dict()  # ребра из ридов с покрытиями\n",
    "\n",
    "    # for read in reads:\n",
    "    for record in reads:\n",
    "        read = str(record.seq)\n",
    "        for i in range(len(read) - k):\n",
    "            edge_seq = read[i:i + k + 1]\n",
    "            if edge_seq not in edges.keys():\n",
    "                edges[edge_seq] = 0\n",
    "            edges[edge_seq] += 1\n",
    "    kmers = defaultdict(KMer)\n",
    "    class_edges = defaultdict(list)\n",
    "    anti_edges = defaultdict(list)\n",
    "\n",
    "    for kmer, count in edges.items():\n",
    "        kmer1, kmer2 = kmer[:-1], kmer[1:]\n",
    "        if kmer1 not in kmers:\n",
    "            kmers[kmer1] = KMer()\n",
    "        if kmer2 not in kmers:\n",
    "            kmers[kmer2] = KMer()\n",
    "        kmers[kmer1].out_degree += 1\n",
    "        kmers[kmer2].in_degree += 1\n",
    "        if kmer1 in class_edges.keys():\n",
    "            class_edges[kmer1].append(Edge(kmer, count))\n",
    "        else:\n",
    "            class_edges[kmer1] = [Edge(kmer, count)]\n",
    "        if kmer2 in anti_edges.keys():\n",
    "            anti_edges[kmer2].append(Edge(kmer, count))\n",
    "        else:\n",
    "            anti_edges[kmer2] = [Edge(kmer, count)]\n",
    "    return kmers, class_edges, anti_edges"
   ]
  },
  {
   "cell_type": "code",
   "execution_count": 7,
   "metadata": {
    "colab": {
     "base_uri": "https://localhost:8080/"
    },
    "id": "1qbCqIk3BJPg",
    "outputId": "a3941590-65f7-4746-eebb-3b1df34c02a6"
   },
   "outputs": [],
   "source": [
    "# kmers, edges, anti = build_de_bruijn_graph(['TAATGCCATGGGATGTT'], 2)\n",
    "# print(kmers)\n",
    "# print(edges)\n",
    "# print(anti)"
   ]
  },
  {
   "cell_type": "markdown",
   "metadata": {
    "id": "FlikFVwwuGuO"
   },
   "source": [
    "# 2. Сжатие графа (4 балла)"
   ]
  },
  {
   "cell_type": "markdown",
   "metadata": {
    "id": "cAAJUPjKuKva"
   },
   "source": [
    "Научитесь производить сжатие графа Де Брюина. При сжатии не забывайте склеивать подстроки на ребрах и обновлять покрытие ребер. Пересчитывайте покрытие склеиваемых ребер как взвешенное среднее, где вес соответствует длине подстроки, соответствующей ребру."
   ]
  },
  {
   "cell_type": "code",
   "execution_count": 8,
   "metadata": {
    "id": "KvKpCwkAuOD8"
   },
   "outputs": [],
   "source": [
    "def compress_graph(kmers, edges, anti):\n",
    "    compressed_edges = defaultdict(list)\n",
    "    compressed_anti = defaultdict(list)\n",
    "    kmers_names = list(kmers)\n",
    "    k = len(kmers_names[0])\n",
    "    for seq in kmers_names:\n",
    "        node = kmers[seq]\n",
    "        if node.in_degree == 1 and node.out_degree == 1:\n",
    "            current = seq  # delet\n",
    "            start = anti[seq][0].sequence[:-1]\n",
    "            new_edge_seq = start + seq[-1]  # новое ребро\n",
    "            new_edge_cov = anti[seq][0].coverage\n",
    "            while node.in_degree == 1 and node.out_degree == 1:\n",
    "                # зануляем промедуточный кмер\n",
    "                if current != start:\n",
    "                    kmers[current].in_degree, kmers[current].out_degree = 0, 0\n",
    "\n",
    "                next_kmer = edges[current][0]\n",
    "                current = next_kmer.sequence[-k:]\n",
    "                node = kmers[current]\n",
    "\n",
    "                new_edge_seq += next_kmer.sequence[-1]\n",
    "                new_edge_cov += next_kmer.coverage\n",
    "\n",
    "            compressed_edges[start].append(Edge(new_edge_seq, new_edge_cov/(len(new_edge_seq)-k)))\n",
    "            compressed_anti[current].append(Edge(new_edge_seq, new_edge_cov/(len(new_edge_seq)-k)))\n",
    "    #отдельно добавить не схлопнутые ребра\n",
    "    for seq in kmers_names:\n",
    "        node = kmers[seq]\n",
    "        if node.in_degree != 0 and node.out_degree != 0:\n",
    "            if node.out_degree != len(compressed_edges[seq]):\n",
    "                for e in edges[seq]:\n",
    "                    next = e.sequence[-k:]\n",
    "                    if kmers[next].in_degree != 0:\n",
    "                        compressed_edges[seq].append(e)\n",
    "                        compressed_anti[next].append(e)\n",
    "    new_kmers = defaultdict(KMer)\n",
    "    for i in kmers_names:\n",
    "        if kmers[i].in_degree != 0 or kmers[i].out_degree != 0:\n",
    "            new_kmers[i] = KMer(kmers[i].in_degree,  kmers[i].out_degree)\n",
    "    return new_kmers, compressed_edges, compressed_anti"
   ]
  },
  {
   "cell_type": "code",
   "execution_count": 9,
   "metadata": {
    "colab": {
     "base_uri": "https://localhost:8080/"
    },
    "id": "4mlVlQe3otwi",
    "outputId": "115f548d-f437-422a-a1c6-1360e1608de2"
   },
   "outputs": [],
   "source": [
    "# kmers, compressed_edges = compress_graph(kmers, edges, anti)\n",
    "# print(compressed_edges)\n",
    "# print(kmers)"
   ]
  },
  {
   "cell_type": "markdown",
   "metadata": {
    "id": "d8H93hsIuOdF"
   },
   "source": [
    "# 3. Удаление хвостов (3 балла)"
   ]
  },
  {
   "cell_type": "markdown",
   "metadata": {
    "id": "KPY-cFjvuTTm"
   },
   "source": [
    "Реализуйте возможность после построения графа удалять плохо покрытые хвосты. Чтобы определить, является ли хвост плохо покрытым, нужно посчитать распределение произведений покрытий на длину хвоста по всем хвостам и удалить те, что попадают в 30 процентов ближе к нулю распределения."
   ]
  },
  {
   "cell_type": "code",
   "execution_count": 10,
   "metadata": {
    "id": "IsVZphZ6uW3M"
   },
   "outputs": [],
   "source": [
    "def remove_low_coverage_tails(kmers, edges, anti):\n",
    "    tails = []\n",
    "    f_tails = []\n",
    "    for seq in kmers.keys():\n",
    "        kmer = kmers[seq]\n",
    "        if kmer.out_degree == 0 or kmer.in_degree == 0:\n",
    "            if kmer.out_degree == 0:\n",
    "                tail_coverage = anti[seq][0].coverage\n",
    "                tail_length = len(anti[seq][0].sequence)\n",
    "            else:\n",
    "                tail_coverage = edges[seq][0].coverage\n",
    "                tail_length = len(edges[seq][0].sequence)\n",
    "            f_tails.append(tail_coverage*tail_length)\n",
    "            tails.append(seq)\n",
    "    if len(tails)>0:\n",
    "        print('tails:', len(tails))\n",
    "        k = len(tails[0])\n",
    "        f_sort = sorted(f_tails)\n",
    "        coverage_threshold = f_sort[len(f_tails)//3]\n",
    "        for i, tail in enumerate(tails):\n",
    "            if f_tails[i] < coverage_threshold:\n",
    "                if  kmer.out_degree == 0:\n",
    "                    edg_seq = anti[seq][0]\n",
    "                    next = anti[seq][0].sequence[:k]\n",
    "                    kmer[next].out_degree -= 1\n",
    "                    del anti[seq]\n",
    "                    for i  in range(len(edges[next])):\n",
    "                        e = edges[next][i]\n",
    "                        if e.sequence == edg_seq:\n",
    "                            del edges[next][i]\n",
    "                else:\n",
    "                    edg_seq = edges[seq][0]\n",
    "                    next = edges[seq][0].sequence[-k:]\n",
    "                    kmer[next].in_degree -= 1\n",
    "                    del edges[seq]\n",
    "                    for i  in range(len(anti[next])):\n",
    "                        e = anti[next][i]\n",
    "                        if e.sequence == edg_seq:\n",
    "                            del anti[next][i]\n",
    "                del kmers[tail]\n",
    "    return kmers, edges, anti"
   ]
  },
  {
   "cell_type": "markdown",
   "metadata": {
    "id": "cfi9MrmhuXKJ"
   },
   "source": [
    "# 4. Удаление пузырей (4 балла)"
   ]
  },
  {
   "cell_type": "markdown",
   "metadata": {
    "id": "qC8ofNOmubrY"
   },
   "source": [
    "Научитесь удалять такие пузыри в графе, длина которых меньше либо равна 2k. Таким образом должно получится удаление последствий единичных ошибок в ридах."
   ]
  },
  {
   "cell_type": "code",
   "execution_count": 11,
   "metadata": {
    "id": "jWX1tZ-kueZQ"
   },
   "outputs": [],
   "source": [
    "def remove_bubbles(kmers, edges, k):\n",
    "    def find_bubble(kmer, max_length):\n",
    "        visited = set()\n",
    "        stack = [(kmer, 0)]\n",
    "        while stack:\n",
    "            current, length = stack.pop()\n",
    "            if length > max_length:\n",
    "                continue\n",
    "            if current in visited:\n",
    "                return current\n",
    "            visited.add(current)\n",
    "            for edge in edges[current]:\n",
    "                stack.append((edge, length + 1))\n",
    "        return None\n",
    "\n",
    "    for kmer in list(kmers.values()):\n",
    "        bubble = find_bubble(kmer, 2 * k)\n",
    "        if bubble:\n",
    "            for edge in edges[bubble]:\n",
    "                if edge in edges:\n",
    "                    del edges[edge]\n",
    "            del kmers[bubble.seq]\n",
    "\n",
    "    return kmers, edges"
   ]
  },
  {
   "cell_type": "markdown",
   "metadata": {
    "id": "Ek-QevONuf-M"
   },
   "source": [
    "# 5. Анализ графа после упрощений (4 балла)"
   ]
  },
  {
   "cell_type": "markdown",
   "metadata": {
    "id": "oNxt2tdUuuXN"
   },
   "source": [
    "Постройте граф на основе ридов представленных по ссылке ниже. Сохраните граф до всех упрощений и после, посчитайте распределения степеней вершин и покрытий ребер, постройте графики. Так же сравните на сколько уменьшается количество вершин и ребер."
   ]
  },
  {
   "cell_type": "code",
   "execution_count": 12,
   "metadata": {
    "id": "_mfVxLKnNUYp"
   },
   "outputs": [],
   "source": [
    "def plot_distribution(distribution, title, xlabel, ylabel):\n",
    "    keys = list(distribution.keys())\n",
    "    values = list(distribution.values())\n",
    "\n",
    "    plt.bar(keys, values)\n",
    "    plt.title(title)\n",
    "    plt.xlabel(xlabel)\n",
    "    plt.ylabel(ylabel)\n",
    "    plt.show()"
   ]
  },
  {
   "cell_type": "code",
   "execution_count": 13,
   "metadata": {
    "id": "a7dNF7qMu9qM"
   },
   "outputs": [],
   "source": [
    "def graph_info(kmers, edges, before):\n",
    "    nodes = len(kmers)\n",
    "    num_edges = sum(len(edge_list) for edge_list in edges.values())\n",
    "\n",
    "    out_degree_counts = Counter(kmer.out_degree for kmer in kmers.values())\n",
    "    coverage_counts = Counter(edge.coverage for edge_list in edges.values() for edge in edge_list)\n",
    "\n",
    "    print(f'Количество вершин {before} сжатия {nodes}')\n",
    "    print(f'Количество ребер {before} сжатия {num_edges}')\n",
    "\n",
    "    plot_distribution(out_degree_counts, f'Распределение степеней вершин {before} сжатия', 'степени вершин', 'количество')\n",
    "    plot_distribution(coverage_counts, f'Распределение покрытия ребер {before} сжатия', 'покрытие ребер', 'количество')"
   ]
  },
  {
   "cell_type": "markdown",
   "metadata": {
    "id": "8P8i6dSavY6W"
   },
   "source": [
    "# Проверка на реальных данных"
   ]
  },
  {
   "cell_type": "markdown",
   "metadata": {
    "id": "y35KLmptvnKX"
   },
   "source": [
    "Для того чтобы тестировать Ваш код, используйте синтетические данные без ошибок. Можете просто сгенерировать большую случайную строку длины 1000 и из нее набрать подстроки длины 150. Считайте при записи в FASTQ, что качество таких ридов наилучшее.\n",
    "Финальная версия алгоритма построения графа должна работать на данных секвенирования кишечной палочки (ссылка)\n",
    "Задания 3...6 будут засчитываться при работе алгоритма именно на этих данных. Учтите, чтобы решение работало на них, вам нужно аккуратно относиться к памяти и производительности, кроме того, обязательно делайте предобработку данных, используйте тулы из задания 2.1, в том числе trimmomatic."
   ]
  },
  {
   "cell_type": "markdown",
   "metadata": {
    "id": "rKQgOjiwPeWw"
   },
   "source": [
    "##Синтетические данные"
   ]
  },
  {
   "cell_type": "code",
   "execution_count": null,
   "metadata": {
    "id": "7LP3ADe6z4-0"
   },
   "outputs": [],
   "source": [
    "dna_sequence = generate_random_dna_sequence(3000)\n",
    "reads = create_random_reads(dna_sequence, 150, 1000)\n",
    "fastq_data = format_reads_to_fastq(reads)\n",
    "with open('sequenced_reads.fastq', 'w') as fastq_file:\n",
    "    fastq_file.writelines(fastq_data)"
   ]
  },
  {
   "cell_type": "code",
   "execution_count": null,
   "metadata": {
    "colab": {
     "base_uri": "https://localhost:8080/",
     "height": 979
    },
    "id": "QH6tpzgBPx5F",
    "outputId": "f02c864e-a876-4820-d739-83e56ee452e5"
   },
   "outputs": [
    {
     "name": "stdout",
     "output_type": "stream",
     "text": [
      "k+1mer: 2109\n",
      "Количество вершин до сжатия 965\n",
      "Количество ребер до сжатия 2109\n"
     ]
    },
    {
     "data": {
      "image/png": "[encoded data removed]",
      "text/plain": [
       "<Figure size 640x480 with 1 Axes>"
      ]
     },
     "metadata": {},
     "output_type": "display_data"
    },
    {
     "data": {
      "image/png": "[encoded data removed]",
      "text/plain": [
       "<Figure size 640x480 with 1 Axes>"
      ]
     },
     "metadata": {},
     "output_type": "display_data"
    }
   ],
   "source": [
    "kmers, edges, anti = build_de_bruijn_graph(reads, 5)\n",
    "graph_info(kmers, edges, 'до')"
   ]
  },
  {
   "cell_type": "code",
   "execution_count": null,
   "metadata": {
    "colab": {
     "base_uri": "https://localhost:8080/",
     "height": 962
    },
    "id": "shFZ4TXnSry9",
    "outputId": "d34d9f09-eb65-4b02-afda-86eea00a7f98"
   },
   "outputs": [
    {
     "name": "stdout",
     "output_type": "stream",
     "text": [
      "Количество вершин после сжатия 798\n",
      "Количество ребер после сжатия 1787\n"
     ]
    },
    {
     "data": {
      "image/png": "[encoded data removed]",
      "text/plain": [
       "<Figure size 640x480 with 1 Axes>"
      ]
     },
     "metadata": {},
     "output_type": "display_data"
    },
    {
     "data": {
      "image/png": "[encoded data removed]",
      "text/plain": [
       "<Figure size 640x480 with 1 Axes>"
      ]
     },
     "metadata": {},
     "output_type": "display_data"
    }
   ],
   "source": [
    "kmers, compressed_edges, compressed_anti = compress_graph(kmers, edges, anti)\n",
    "kmers, edges, anti = remove_low_coverage_tails(kmers, compressed_edges, compressed_anti)\n",
    "graph_info(kmers, edges, 'после')"
   ]
  },
  {
   "cell_type": "markdown",
   "metadata": {
    "id": "9o-PduwjT3ie"
   },
   "source": [
    "На синтетических данных удаляется около 150 вершин и порядка 300 ребер."
   ]
  },
  {
   "cell_type": "markdown",
   "metadata": {
    "id": "EsVuL5DGUFMm"
   },
   "source": [
    "##Реальные данные"
   ]
  },
  {
   "cell_type": "markdown",
   "metadata": {
    "id": "EphXpIdzUaHt"
   },
   "source": [
    "Исходный фаста-файл был триммирован и обработан для коррекции ошибок в BFC\n",
    "\n",
    "java -jar /home/sveta/soft/Trimmomatic-0.39/trimmomatic-0.39.jar SE /home/sveta/Загрузки/sequenced_reads.fastq trimmed_reads.fastq SLIDINGWINDOW:4:2 LEADING:3 TRAILING:3 MINLEN:36\n",
    "\n",
    "git checkout -b Bioinformatics_Zabarina_HW2-1\n",
    "\n",
    "./bfc  -k 21 -t 4 /home/sveta/Загрузки/sequenced_reads_1.fastq > /home/sveta/Загрузки/corrected_output.fasta\n",
    "\n",
    "\n"
   ]
  },
  {
   "cell_type": "code",
   "execution_count": 15,
   "metadata": {
    "id": "BLmjDYZkUZVq"
   },
   "outputs": [],
   "source": [
    "from Bio import SeqIO"
   ]
  },
  {
   "cell_type": "code",
   "execution_count": 16,
   "metadata": {},
   "outputs": [],
   "source": [
    "input_fastq = \"filtered_output.fasta\"\n",
    "output_fasta = \"small.fasta\"\n",
    "a_value = 0.5\n",
    "\n",
    "with open(input_fastq, \"r\") as infile, open(output_fasta, \"w\") as outfile:\n",
    "    for record in SeqIO.parse(infile, \"fasta\"):\n",
    "        if random.random() < 0.3:\n",
    "            SeqIO.write(record, outfile, \"fasta\")"
   ]
  },
  {
   "cell_type": "code",
   "execution_count": 17,
   "metadata": {
    "id": "1mMHEu6ugFsT"
   },
   "outputs": [],
   "source": [
    "def build_de_bruijn_graph( name, k=20):\n",
    "    edges = dict()  # ребра из ридов с покрытиями\n",
    "\n",
    "    with open(name) as handle:\n",
    "        for record in SeqIO.parse(handle, \"fasta\"):\n",
    "            read = str(record.seq)\n",
    "            for i in range(len(read) - k):\n",
    "                edge_seq = read[i:i + k + 1]\n",
    "                if edge_seq not in edges.keys():\n",
    "                    edges[edge_seq] = 0\n",
    "                edges[edge_seq] += 1\n",
    "    kmers = defaultdict(KMer)\n",
    "    class_edges = defaultdict(list)\n",
    "    anti_edges = defaultdict(list)\n",
    "\n",
    "    for kmer, count in edges.items():\n",
    "        kmer1, kmer2 = kmer[:-1], kmer[1:]\n",
    "        if kmer1 not in kmers:\n",
    "            kmers[kmer1] = KMer()\n",
    "        if kmer2 not in kmers:\n",
    "            kmers[kmer2] = KMer()\n",
    "        kmers[kmer1].out_degree += 1\n",
    "        kmers[kmer2].in_degree += 1\n",
    "        if kmer1 in class_edges.keys():\n",
    "            class_edges[kmer1].append(Edge(kmer, count))\n",
    "        else:\n",
    "            class_edges[kmer1] = [Edge(kmer, count)]\n",
    "        if kmer2 in anti_edges.keys():\n",
    "            anti_edges[kmer2].append(Edge(kmer, count))\n",
    "        else:\n",
    "            anti_edges[kmer2] = [Edge(kmer, count)]\n",
    "    return kmers, class_edges, anti_edges"
   ]
  },
  {
   "cell_type": "code",
   "execution_count": null,
   "metadata": {
    "id": "a4QpydRrURgQ"
   },
   "outputs": [],
   "source": [
    "kmers, edges, anti = build_de_bruijn_graph(output_fasta, 20)\n",
    "graph_info(kmers, edges, 'до')"
   ]
  },
  {
   "cell_type": "code",
   "execution_count": null,
   "metadata": {
    "id": "ZzVfRxF9UWQf"
   },
   "outputs": [],
   "source": [
    "kmers, compressed_edges, compressed_anti = compress_graph(kmers, edges, anti)\n",
    "kmers, edges, anti = remove_low_coverage_tails(kmers, compressed_edges, compressed_anti)\n",
    "graph_info(kmers, edges, 'после')"
   ]
  }
 ],
 "metadata": {
  "colab": {
   "provenance": [],
   "toc_visible": true
  },
  "kernelspec": {
   "display_name": "Python 3 (ipykernel)",
   "language": "python",
   "name": "python3"
  },
  "language_info": {
   "codemirror_mode": {
    "name": "ipython",
    "version": 3
   },
   "file_extension": ".py",
   "mimetype": "text/x-python",
   "name": "python",
   "nbconvert_exporter": "python",
   "pygments_lexer": "ipython3",
   "version": "3.8.10"
  }
 },
 "nbformat": 4,
 "nbformat_minor": 4
}
