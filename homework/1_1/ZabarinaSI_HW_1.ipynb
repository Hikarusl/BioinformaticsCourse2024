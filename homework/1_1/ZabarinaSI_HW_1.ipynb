{
  "nbformat": 4,
  "nbformat_minor": 0,
  "metadata": {
    "colab": {
      "provenance": [],
      "toc_visible": true
    },
    "kernelspec": {
      "name": "python3",
      "display_name": "Python 3"
    },
    "language_info": {
      "name": "python"
    }
  },
  "cells": [
    {
      "cell_type": "code",
      "source": [
        "!pip install biopython"
      ],
      "metadata": {
        "colab": {
          "base_uri": "https://localhost:8080/"
        },
        "id": "qYo_hHNjOMaM",
        "outputId": "4df3d591-cc21-4151-e4f9-f1f638b3b8f1"
      },
      "execution_count": null,
      "outputs": [
        {
          "output_type": "stream",
          "name": "stdout",
          "text": [
            "Collecting biopython\n",
            "  Downloading biopython-1.83-cp310-cp310-manylinux_2_17_x86_64.manylinux2014_x86_64.whl (3.1 MB)\n",
            "\u001b[2K     \u001b[90m━━━━━━━━━━━━━━━━━━━━━━━━━━━━━━━━━━━━━━━━\u001b[0m \u001b[32m3.1/3.1 MB\u001b[0m \u001b[31m12.4 MB/s\u001b[0m eta \u001b[36m0:00:00\u001b[0m\n",
            "\u001b[?25hRequirement already satisfied: numpy in /usr/local/lib/python3.10/dist-packages (from biopython) (1.23.5)\n",
            "Installing collected packages: biopython\n",
            "Successfully installed biopython-1.83\n"
          ]
        }
      ]
    },
    {
      "cell_type": "code",
      "execution_count": null,
      "metadata": {
        "id": "EoxdO8yJM9oJ"
      },
      "outputs": [],
      "source": [
        "from Bio import SeqIO"
      ]
    },
    {
      "cell_type": "markdown",
      "source": [
        "Во всех практических заданиях ниже входные данные будут храниться в формате fasta. Писать парсер fasta файлов самостоятельно не рекомендуется, пользуйтесь библиотеками. Если пишете на python, то можете использовать, например, класс SeqIO из BioPython.\n",
        "\n",
        "\n",
        "\n",
        "  Остальные функции в академических целях нужно написать не используя библиотек. В следующих ДЗ или для тестирования Вашего решения в этом, можно использовать библиотеку Distance для python или аналогичные для других ЯП. Входные файлы, на которых можно попробовать запустить свое решение находятся в папке ./data.\n",
        "\n",
        "\n",
        "1.   Хэмминг (1 балл)\n",
        "Реализуйте вычисление расстояния Хэмминга.\n",
        "\n",
        "2.   Ближайшая подстрока (1 балл)\n",
        "Даны 2 строки над алфавитом ATGC, реализуйте алгоритм, который позволит находить подстроку в более длинной строке, которая ближе всего по расстоянию Хэминга к боллее короткой. Верните позицию начала этой подстроки, саму подстроку и рассстояние хэмминга.\n",
        "\n",
        "3.   Левенштейн (4 балла)\n",
        "Реализуйте алгоритм вычисления расстояния редактирования. O(n•m) по времени и O(min(n, m)) по памяти (обратите внимание на то, что возвращать способ получения из одной строки другую не нужно). Алгоритм возвращаеет одно число - расстояние редактирования между входными строками.\n"
      ],
      "metadata": {
        "id": "iy9G_CM4NLl6"
      }
    },
    {
      "cell_type": "code",
      "source": [
        "from google.colab import drive\n",
        "drive.mount('/content/drive/')"
      ],
      "metadata": {
        "colab": {
          "base_uri": "https://localhost:8080/"
        },
        "id": "lG2G2EMrkB-D",
        "outputId": "187aa577-4584-4df7-91bc-23101371d5ea"
      },
      "execution_count": null,
      "outputs": [
        {
          "output_type": "stream",
          "name": "stdout",
          "text": [
            "Mounted at /content/drive/\n"
          ]
        }
      ]
    },
    {
      "cell_type": "code",
      "source": [
        "path1 = '/content/drive/MyDrive/Colab_Notebooks/HSE_bioinf/gattaca.fasta'\n",
        "path2 = '/content/drive/MyDrive/Colab_Notebooks/HSE_bioinf/f8.fasta'"
      ],
      "metadata": {
        "id": "-2nIv3NHlEkQ"
      },
      "execution_count": null,
      "outputs": []
    },
    {
      "cell_type": "code",
      "source": [
        "with open(path2) as handle:\n",
        "    for record in SeqIO.parse(handle, \"fasta\"):\n",
        "        print(record.id)\n",
        "        print(len(record.seq))"
      ],
      "metadata": {
        "colab": {
          "base_uri": "https://localhost:8080/"
        },
        "id": "ix5qFwlpjuf8",
        "outputId": "26d680d4-d6c5-4fde-bdf3-b7058a866783"
      },
      "execution_count": null,
      "outputs": [
        {
          "output_type": "stream",
          "name": "stdout",
          "text": [
            "NC_000023\n",
            "1707\n",
            "NC_000023_random\n",
            "1716\n"
          ]
        }
      ]
    },
    {
      "cell_type": "markdown",
      "source": [
        "##1.Хэмминг"
      ],
      "metadata": {
        "id": "6JiRDoQSO1V1"
      }
    },
    {
      "cell_type": "code",
      "source": [
        "def hamming_distance_from_fasta(path):\n",
        "    s = []\n",
        "    with open(path) as handle:\n",
        "      for record in SeqIO.parse(handle, \"fasta\"):\n",
        "        #print(record.id)\n",
        "        s.append(record.seq)\n",
        "    if len(s[0]) != len(s[1]):\n",
        "      return 'Строки разной длинны'\n",
        "    dist = sum(s[0][i] != s[1][i] for i in range(len(s[0])))\n",
        "    return dist"
      ],
      "metadata": {
        "id": "AIKj5fcnO64s"
      },
      "execution_count": null,
      "outputs": []
    },
    {
      "cell_type": "code",
      "source": [
        "def hamming_distance(s1, s2):\n",
        "    if len(s1) != len(s2):\n",
        "      return 'Строки разной длинны'\n",
        "    dist = sum(s1[i] != s2[i] for i in range(len(s1)))\n",
        "    return dist"
      ],
      "metadata": {
        "id": "afEs8oprrVjR"
      },
      "execution_count": null,
      "outputs": []
    },
    {
      "cell_type": "code",
      "source": [
        "print(hamming_distance_from_fasta(path1))"
      ],
      "metadata": {
        "colab": {
          "base_uri": "https://localhost:8080/"
        },
        "id": "t27UvtS0opUw",
        "outputId": "635c0fc0-a623-4174-f677-b8557a9be6ec"
      },
      "execution_count": null,
      "outputs": [
        {
          "output_type": "stream",
          "name": "stdout",
          "text": [
            "2\n"
          ]
        }
      ]
    },
    {
      "cell_type": "markdown",
      "source": [
        "##2.Ближайшая подстрока"
      ],
      "metadata": {
        "id": "rjFD1x6EPBv1"
      }
    },
    {
      "cell_type": "code",
      "source": [
        "def nearest_substr(path):\n",
        "    s = []\n",
        "    with open(path) as handle:\n",
        "      for record in SeqIO.parse(handle, \"fasta\"):\n",
        "        s.append(record.seq)\n",
        "    shot_s, long_s = s[1], s[0]\n",
        "    if len(shot_s) > len(long_s):\n",
        "      shot_s, long_s = long_s, shot_s\n",
        "    n, m = len(long_s), len(shot_s)\n",
        "    ind = 0\n",
        "    dist = hamming_distance(long_s[0:m], shot_s)\n",
        "    for i in range(1, n-m):\n",
        "        new_dist = hamming_distance(long_s[i:m+i], shot_s)\n",
        "        if new_dist < dist:\n",
        "          ind = i\n",
        "          dist = new_dist\n",
        "    return ind, long_s[ind:ind+m], dist"
      ],
      "metadata": {
        "id": "QrbhaF-GPC_b"
      },
      "execution_count": null,
      "outputs": []
    },
    {
      "cell_type": "code",
      "source": [
        "nearest_substr(path2)"
      ],
      "metadata": {
        "colab": {
          "base_uri": "https://localhost:8080/"
        },
        "id": "ATQYWYsEsrBe",
        "outputId": "b0101ac2-be6a-4a63-8b80-8bc040fe36d6"
      },
      "execution_count": null,
      "outputs": [
        {
          "output_type": "execute_result",
          "data": {
            "text/plain": [
              "(0, Seq('AAGTGCTTGGGGCGGCGAGCATGGCGGCAGCGGCTGCAGGCCTGGGCGGCGGCG...CTT'), 637)"
            ]
          },
          "metadata": {},
          "execution_count": 10
        }
      ]
    },
    {
      "cell_type": "markdown",
      "source": [
        "##3.Левенштейн"
      ],
      "metadata": {
        "id": "J7ZUh664PDZy"
      }
    },
    {
      "cell_type": "code",
      "source": [
        "def levenshtein_distance(path):\n",
        "    s = []\n",
        "    with open(path) as handle:\n",
        "      for record in SeqIO.parse(handle, \"fasta\"):\n",
        "        s.append(record.seq)\n",
        "    shot_s, long_s = s[1], s[0]\n",
        "    if len(shot_s) > len(long_s):\n",
        "      shot_s, long_s = long_s, shot_s\n",
        "    n, m = len(long_s), len(shot_s)\n",
        "    dist = [[i for i in range(m+1)], [0]*(m+1)]\n",
        "    for i in range(1, n+1):\n",
        "        dist[1][0] = i\n",
        "        for j in range(1, m+1):\n",
        "          if shot_s[j-1] == long_s[i-1]:\n",
        "            dist[1][j] = min(dist[0][j-1], dist[0][j] +1, dist[1][j-1]+1)\n",
        "          else:\n",
        "            dist[1][j] = 1 + min(dist[0][j-1], dist[0][j], dist[1][j-1])\n",
        "        dist[0] = dist[1][:]\n",
        "    return dist[1][-1]"
      ],
      "metadata": {
        "id": "XWM20L_aPJL5"
      },
      "execution_count": null,
      "outputs": []
    },
    {
      "cell_type": "code",
      "source": [
        "levenshtein_distance(path1)"
      ],
      "metadata": {
        "colab": {
          "base_uri": "https://localhost:8080/"
        },
        "id": "7Rr2vF5cx9wn",
        "outputId": "cccba67d-d632-4095-bb0b-218d37fa061e"
      },
      "execution_count": null,
      "outputs": [
        {
          "output_type": "stream",
          "name": "stdout",
          "text": [
            "CATTAGA GATTACA\n"
          ]
        },
        {
          "output_type": "execute_result",
          "data": {
            "text/plain": [
              "2"
            ]
          },
          "metadata": {},
          "execution_count": 30
        }
      ]
    }
  ]
}