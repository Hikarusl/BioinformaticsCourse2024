{
  "nbformat": 4,
  "nbformat_minor": 0,
  "metadata": {
    "colab": {
      "provenance": [],
      "toc_visible": true
    },
    "kernelspec": {
      "name": "python3",
      "display_name": "Python 3"
    },
    "language_info": {
      "name": "python"
    }
  },
  "cells": [
    {
      "cell_type": "code",
      "source": [
        "!pip install biopython"
      ],
      "metadata": {
        "colab": {
          "base_uri": "https://localhost:8080/"
        },
        "id": "yJPq4IuyzsZc",
        "outputId": "36498243-9346-49fd-cc92-203131cbc0dd"
      },
      "execution_count": 1,
      "outputs": [
        {
          "output_type": "stream",
          "name": "stdout",
          "text": [
            "Collecting biopython\n",
            "  Downloading biopython-1.83-cp310-cp310-manylinux_2_17_x86_64.manylinux2014_x86_64.whl (3.1 MB)\n",
            "\u001b[2K     \u001b[90m━━━━━━━━━━━━━━━━━━━━━━━━━━━━━━━━━━━━━━━━\u001b[0m \u001b[32m3.1/3.1 MB\u001b[0m \u001b[31m10.6 MB/s\u001b[0m eta \u001b[36m0:00:00\u001b[0m\n",
            "\u001b[?25hRequirement already satisfied: numpy in /usr/local/lib/python3.10/dist-packages (from biopython) (1.25.2)\n",
            "Installing collected packages: biopython\n",
            "Successfully installed biopython-1.83\n"
          ]
        }
      ]
    },
    {
      "cell_type": "code",
      "source": [
        "import numpy as np\n",
        "from Bio.Align import substitution_matrices\n",
        "from Bio import pairwise2\n",
        "from Bio.pairwise2 import format_alignment"
      ],
      "metadata": {
        "colab": {
          "base_uri": "https://localhost:8080/"
        },
        "id": "dIUYKR9mSFWa",
        "outputId": "4857d2c0-746b-477e-9898-7ce9f35ff7d3"
      },
      "execution_count": 2,
      "outputs": [
        {
          "output_type": "stream",
          "name": "stderr",
          "text": [
            "/usr/local/lib/python3.10/dist-packages/Bio/pairwise2.py:278: BiopythonDeprecationWarning: Bio.pairwise2 has been deprecated, and we intend to remove it in a future release of Biopython. As an alternative, please consider using Bio.Align.PairwiseAligner as a replacement, and contact the Biopython developers if you still need the Bio.pairwise2 module.\n",
            "  warnings.warn(\n"
          ]
        }
      ]
    },
    {
      "cell_type": "markdown",
      "source": [
        "#Жадный алгоритм множественного выравнивания (7 баллов)\n",
        " Реализуйте алгоритм, который принимал бы на вход массив строк, штраф за удаления, вставки и несовпадения, а так-же цену совпадений. А возвращал бы множественное выравнивание. На первом шаге алгоритм должен выбрать две самые близкие по расстоянию Левенштейна строки и заменить их консенснусной строкой. При следующих шагах алгоритма выравниваться между собой могут так же и консенснусные строки. При этом стоит хранить для каждой строки не только ее саму но и профиль множественного выравнивания, чтобы в итоге правильно пересчитывать консенсус.\n",
        "Результат работы алгоритма - массив строк, соответствующий некоторому множественному выравниванию."
      ],
      "metadata": {
        "id": "hFK5rH8MR0dC"
      }
    },
    {
      "cell_type": "code",
      "source": [
        "matrix = substitution_matrices.load('BLOSUM62')"
      ],
      "metadata": {
        "id": "440ourWYz4Ui"
      },
      "execution_count": 3,
      "outputs": []
    },
    {
      "cell_type": "code",
      "source": [
        "def levenshtein_distance( shot_s, long_s, delet, mattch, mismatch):\n",
        "    n, m = len(long_s), len(shot_s)\n",
        "    ins = delet\n",
        "    dist = [[i*ins for i in range(m+1)], [0]*(m+1)]\n",
        "    for i in range(1, n+1):\n",
        "        dist[1][0] = i*delet\n",
        "        for j in range(1, m+1):\n",
        "          if shot_s[j-1] == long_s[i-1]:\n",
        "            dist[1][j] = max(dist[0][j-1] + mattch, dist[0][j] +delet, dist[1][j-1]+ins)\n",
        "          else:\n",
        "            dist[1][j] = max(dist[0][j-1] + mismatch, dist[0][j] + delet, dist[1][j-1] + ins)\n",
        "        dist[0] = dist[1][:]\n",
        "    return dist[1][-1]"
      ],
      "metadata": {
        "id": "WaE_pnXpx6Zm"
      },
      "execution_count": 14,
      "outputs": []
    },
    {
      "cell_type": "code",
      "source": [
        "def calculate_consensus(profs):\n",
        "    #Рассчет консенсусной строки по сумме профилей\n",
        "    #Считаем что в консенсусе не должно быть пробелов\n",
        "    bases = np.array(['A', 'T', 'G', 'C', '-'])\n",
        "    consensus = ''.join(list(bases[np.argmax(profs[:,:4], axis=1)]))\n",
        "    return consensus"
      ],
      "metadata": {
        "id": "qfzAXeJnvjFh"
      },
      "execution_count": 26,
      "outputs": []
    },
    {
      "cell_type": "code",
      "source": [
        "def get_prof(seq, old_seq, ind, profs):\n",
        "    #Пересчет профиля с учетов гэпов в выравнивании на консенсус\n",
        "    #берем старый и добавляем гэпы веса равного количеству строк этого консенсуса\n",
        "    old_prof = profs[ind]\n",
        "    w = np.sum(old_prof[0])\n",
        "    new_prof = np.zeros((len(seq), 5))\n",
        "    i, j = 0, 0\n",
        "    while i<len(seq) or j<len(old_seq):\n",
        "        if j < len(old_seq) and seq[i] == old_seq[j]:\n",
        "          new_prof[i] = old_prof[j]\n",
        "          j += 1\n",
        "        else:\n",
        "          new_prof[i][-1] = w\n",
        "        i += 1\n",
        "    return new_prof"
      ],
      "metadata": {
        "id": "ixFcnZWyMDo-"
      },
      "execution_count": 27,
      "outputs": []
    },
    {
      "cell_type": "code",
      "source": [
        "def Needleman_Wunsch(s1, s2, matrix, gap_w=-1):\n",
        "    bases = {'A':0, 'T':1, 'G':2, 'C':3, '-':4}\n",
        "    n, m = len(s1), len(s2)\n",
        "    dp = np.vstack([np.array([0+i*gap_w for i in range(n+1)]), np.zeros((m, n+1))])\n",
        "    vector = np.zeros((m+1, n+1))\n",
        "    vector[:, 0] = 1\n",
        "    vector[0] = 2\n",
        "    for i in range(1, m+1):\n",
        "      dp[i, 0] = dp[i-1, 0] + gap_w\n",
        "      for j in range(1, n+1):\n",
        "          a, b = bases[s2[i-1]], bases[s1[j-1]]\n",
        "          dp[i][j] = max(dp[i-1, j] + gap_w,\n",
        "                         dp[i, j-1] + gap_w,\n",
        "                         dp[i-1, j-1] + matrix[a][b])\n",
        "          if dp[i, j] == dp[i-1, j] + gap_w:\n",
        "                vector[i, j] = 1  # up\n",
        "          elif dp[i, j] == dp[i, j-1] + gap_w:\n",
        "                vector[i, j] = 2  # left\n",
        "          else:\n",
        "                vector[i, j] = 0  # giag\n",
        "\n",
        "\n",
        "    aligned_s1 = []\n",
        "    aligned_s2 = []\n",
        "    view = []\n",
        "    i, j = m, n\n",
        "    while i > 0 or j > 0:\n",
        "        if vector[i, j] == 0:\n",
        "            aligned_s2.append(s2[i-1])\n",
        "            aligned_s1.append(s1[j-1])\n",
        "            if s2[i-1] == s1[j-1]:\n",
        "                view += '|'\n",
        "            else:\n",
        "                view += '.'\n",
        "            i -= 1\n",
        "            j -= 1\n",
        "        elif vector[i, j] == 1:\n",
        "            aligned_s2.append(s2[i-1])\n",
        "            aligned_s1.append('-')\n",
        "            view += ' '\n",
        "            i -= 1\n",
        "        else:\n",
        "            aligned_s2.append('-')\n",
        "            aligned_s1.append(s1[j-1])\n",
        "            view += ' '\n",
        "            j -= 1\n",
        "    aligned_s1.reverse()\n",
        "    aligned_s2.reverse()\n",
        "    return [aligned_s1, aligned_s2]"
      ],
      "metadata": {
        "id": "jEF0hY_owx9F"
      },
      "execution_count": 28,
      "outputs": []
    },
    {
      "cell_type": "code",
      "source": [
        "def first(seq):\n",
        "  #Задание весовых матриц для всех последовательностей\n",
        "  bases = {'A':0, 'T':1, 'G':2, 'C':3, '-':4}\n",
        "  prof = np.zeros((len(seq), 5))\n",
        "  for i in range(len(seq)):\n",
        "    pos = bases[seq[i]]\n",
        "    prof[i][pos] = 1\n",
        "  return prof"
      ],
      "metadata": {
        "id": "u-JoV8s4TUSV"
      },
      "execution_count": 29,
      "outputs": []
    },
    {
      "cell_type": "code",
      "source": [
        "def get_string(strings, alg, scoring_matrix):\n",
        "    #Вывод результатов выравнивания всех последовательностей на итоговый консенсус\n",
        "    print('conc:', alg)\n",
        "    for s in strings:\n",
        "      _, a = Needleman_Wunsch(alg, s, scoring_matrix, -1)\n",
        "      print(''.join(a))"
      ],
      "metadata": {
        "id": "fuxhsTbZbnbA"
      },
      "execution_count": 30,
      "outputs": []
    },
    {
      "cell_type": "code",
      "source": [
        "def find_closest_pair(dist):\n",
        "    #Поиск двух ближайших строк по расстоянию левенштейна\n",
        "    min_distance = float('inf')\n",
        "    closest_pair = ()\n",
        "    for i in range(len(dist)):\n",
        "        for j in range(i+1, len(dist)):\n",
        "            if dist[i][j] < min_distance:\n",
        "                min_distance = dist[i][j]\n",
        "                closest_pair = (i, j)\n",
        "    return closest_pair"
      ],
      "metadata": {
        "id": "2WrQrPAdhVy3"
      },
      "execution_count": 23,
      "outputs": []
    },
    {
      "cell_type": "code",
      "source": [
        "def update_distance_matrix(distance_matrix, i, j, new_str, alignments, deletion_penalty, mismatch_penalty, match_score):\n",
        "    #Пересчет расстояний для новой строки\n",
        "    distance_matrix = np.delete(distance_matrix, j, axis=0)\n",
        "    distance_matrix = np.delete(distance_matrix, j, axis=1)\n",
        "\n",
        "    for line in range(len(alignments)):\n",
        "        d = levenshtein_distance(alignments[line], new_str, deletion_penalty, match_score, mismatch_penalty)\n",
        "        distance_matrix[line][i], distance_matrix[i][line] = d, d\n",
        "    return distance_matrix"
      ],
      "metadata": {
        "id": "p-FSobmaz52x"
      },
      "execution_count": 24,
      "outputs": []
    },
    {
      "cell_type": "code",
      "source": [
        "def calc_dist(strings, deletion_penalty, mismatch_penalty, match_score):\n",
        "    #Вычисление всей матрицы расстояний\n",
        "    n = len(strings)\n",
        "    distance = np.zeros((n, n))\n",
        "    for i in range(n):\n",
        "        for j in range(i+1, n):\n",
        "            dist = levenshtein_distance(strings[i], strings[j], deletion_penalty, match_score, mismatch_penalty)\n",
        "            distance[i, j], distance[j, i] = dist, dist\n",
        "    return distance"
      ],
      "metadata": {
        "id": "L_lARgWU0M7j"
      },
      "execution_count": 25,
      "outputs": []
    },
    {
      "cell_type": "code",
      "source": [
        "def multiple_alignment(strings, deletion_penalty, mismatch_penalty, match_score):\n",
        "    ### с сохранением расстояний\n",
        "    bases = ['A', 'T', 'G', 'C', '-']\n",
        "    #матрица штрафов в духе blosam\n",
        "    scoring_matrix = np.zeros((len(bases), len(bases)), dtype=int)\n",
        "    for i in range(len(bases)):\n",
        "        for j in range(len(bases)):\n",
        "                if bases[i] == '-' or bases[j] == '-':\n",
        "                    scoring_matrix[i][j] = deletion_penalty\n",
        "                elif bases[i] == bases[j]:\n",
        "                    scoring_matrix[i][j] = match_score\n",
        "                else:\n",
        "                    scoring_matrix[i][j] = mismatch_penalty\n",
        "\n",
        "    alignments = strings.copy()\n",
        "    #профили выравнивания\n",
        "    profs = [first(seq) for seq in alignments]\n",
        "    L_dist = calc_dist(alignments, deletion_penalty, mismatch_penalty, match_score)\n",
        "    while len(alignments) > 1:\n",
        "        #new pair\n",
        "        i, j = find_closest_pair(L_dist)\n",
        "        alg = Needleman_Wunsch(alignments[i], alignments[j], scoring_matrix, deletion_penalty)\n",
        "        prof_i = get_prof(alg[0], alignments[i], i, profs)\n",
        "        prof_j = get_prof(alg[1], alignments[j], j, profs)\n",
        "        new_prof = prof_i + prof_j\n",
        "        consensus = calculate_consensus(new_prof)\n",
        "\n",
        "        #reinit\n",
        "        del alignments[j]\n",
        "        del profs[j]\n",
        "        alignments[i] = consensus\n",
        "        profs[i] = new_prof\n",
        "        L_dist = update_distance_matrix(L_dist, i, j, consensus, alignments, deletion_penalty, mismatch_penalty, match_score)\n",
        "    get_string(strings, alignments[0], scoring_matrix)"
      ],
      "metadata": {
        "id": "Q3WCOT24yk2y"
      },
      "execution_count": 31,
      "outputs": []
    },
    {
      "cell_type": "markdown",
      "source": [
        "Пример использования:"
      ],
      "metadata": {
        "id": "S5Tr8vPkSSQY"
      }
    },
    {
      "cell_type": "code",
      "source": [
        "deletion_penalty = -3\n",
        "match_score = 2\n",
        "mismatch_penalty = -1"
      ],
      "metadata": {
        "id": "6t9s1Eq82Tv-"
      },
      "execution_count": 36,
      "outputs": []
    },
    {
      "cell_type": "code",
      "source": [
        "strings = [\"AGTACGCA\", \"TATGC\", \"TATGCA\"]\n",
        "multiple_alignment(strings, deletion_penalty, mismatch_penalty, match_score)"
      ],
      "metadata": {
        "colab": {
          "base_uri": "https://localhost:8080/"
        },
        "id": "CKkFRTF8SOsa",
        "outputId": "87512fe0-e90d-4efd-a4ad-1fe49c25d1fb"
      },
      "execution_count": 33,
      "outputs": [
        {
          "output_type": "stream",
          "name": "stdout",
          "text": [
            "conc: AGTATGCA\n",
            "AGTACGCA\n",
            "--TATGC-\n",
            "--TATGCA\n"
          ]
        }
      ]
    },
    {
      "cell_type": "code",
      "source": [
        "seqs = [\"ATTC\", \"GATTC\", \"AGATTC\", \"GATTC\", \"GGATTC\", \"CGATTCA\"]\n",
        "multiple_alignment(seqs, deletion_penalty, mismatch_penalty, match_score)"
      ],
      "metadata": {
        "colab": {
          "base_uri": "https://localhost:8080/"
        },
        "id": "AhcXjWehdDYE",
        "outputId": "b0002cb3-6a73-4e41-b288-17a768f71eea"
      },
      "execution_count": 34,
      "outputs": [
        {
          "output_type": "stream",
          "name": "stdout",
          "text": [
            "conc: AGATTCA\n",
            "A--TTC-\n",
            "-GATTC-\n",
            "AGATTC-\n",
            "-GATTC-\n",
            "GGATTC-\n",
            "CGATTCA\n"
          ]
        }
      ]
    },
    {
      "cell_type": "code",
      "source": [
        "seqs = [\"ATTCGGGGATA\", \"ATTG\", \"GATA\", \"CGAT\", \"ACTCA\"]\n",
        "multiple_alignment(seqs, deletion_penalty, mismatch_penalty, match_score)"
      ],
      "metadata": {
        "colab": {
          "base_uri": "https://localhost:8080/"
        },
        "id": "75jTSX8U4BS9",
        "outputId": "732b78bd-e547-48c2-bde4-f554121fba7d"
      },
      "execution_count": 37,
      "outputs": [
        {
          "output_type": "stream",
          "name": "stdout",
          "text": [
            "conc: ATTCGGGGATA\n",
            "ATTCGGGGATA\n",
            "ATT-G------\n",
            "----G---ATA\n",
            "---CG---AT-\n",
            "ACTC----A--\n"
          ]
        }
      ]
    }
  ]
}