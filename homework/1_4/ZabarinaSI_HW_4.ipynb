{
  "nbformat": 4,
  "nbformat_minor": 0,
  "metadata": {
    "colab": {
      "provenance": []
    },
    "kernelspec": {
      "name": "python3",
      "display_name": "Python 3"
    },
    "language_info": {
      "name": "python"
    }
  },
  "cells": [
    {
      "cell_type": "code",
      "source": [
        "!pip install pysuffixarray\n",
        "!pip install Biopython\n",
        "import Bio\n",
        "from Bio import SeqIO\n",
        "from pysuffixarray.core import SuffixArray"
      ],
      "metadata": {
        "id": "NfnezH5a7-u0",
        "colab": {
          "base_uri": "https://localhost:8080/"
        },
        "outputId": "57a2df47-9058-4d8e-ecb1-ea1367ac983d"
      },
      "execution_count": 1,
      "outputs": [
        {
          "output_type": "stream",
          "name": "stdout",
          "text": [
            "Collecting pysuffixarray\n",
            "  Downloading pysuffixarray-0.0.1.tar.gz (2.8 kB)\n",
            "  Preparing metadata (setup.py) ... \u001b[?25l\u001b[?25hdone\n",
            "Building wheels for collected packages: pysuffixarray\n",
            "  Building wheel for pysuffixarray (setup.py) ... \u001b[?25l\u001b[?25hdone\n",
            "  Created wheel for pysuffixarray: filename=pysuffixarray-0.0.1-py3-none-any.whl size=3484 sha256=c9f61e98c19565d887b7b65c9025e6f149cbab02f72ee9d5e69c28a88a5f1ad3\n",
            "  Stored in directory: /root/.cache/pip/wheels/41/f8/85/65fa214f5e3c49c8585c33c1ecde6368e3460d129ebb353ae8\n",
            "Successfully built pysuffixarray\n",
            "Installing collected packages: pysuffixarray\n",
            "Successfully installed pysuffixarray-0.0.1\n",
            "Collecting Biopython\n",
            "  Downloading biopython-1.83-cp310-cp310-manylinux_2_17_x86_64.manylinux2014_x86_64.whl (3.1 MB)\n",
            "\u001b[2K     \u001b[90m━━━━━━━━━━━━━━━━━━━━━━━━━━━━━━━━━━━━━━━━\u001b[0m \u001b[32m3.1/3.1 MB\u001b[0m \u001b[31m26.9 MB/s\u001b[0m eta \u001b[36m0:00:00\u001b[0m\n",
            "\u001b[?25hRequirement already satisfied: numpy in /usr/local/lib/python3.10/dist-packages (from Biopython) (1.25.2)\n",
            "Installing collected packages: Biopython\n",
            "Successfully installed Biopython-1.83\n"
          ]
        }
      ]
    },
    {
      "cell_type": "code",
      "source": [
        "from Bio import SeqUtils\n",
        "from Bio.SeqUtils import gc_fraction\n",
        "import random\n",
        "import numpy as np\n",
        "import math\n",
        "import matplotlib.pyplot as plt"
      ],
      "metadata": {
        "id": "ez7xMyomxAAt"
      },
      "execution_count": 2,
      "outputs": []
    },
    {
      "cell_type": "markdown",
      "source": [
        "#Задача №0 (3)\n",
        "Дорешайте задачу про риды и BWT из файла practice4.ipynb. В ответе помимо кода укажите количество ридов первой, второй и третьей категории, а также вкратце опишите ход решения."
      ],
      "metadata": {
        "id": "B-x4m25X7LFT"
      }
    },
    {
      "cell_type": "code",
      "source": [
        "class BWTSearcher():\n",
        "    def __init__(self, reference):\n",
        "        # Construct the suffix array\n",
        "        self.sa = SuffixArray(reference)\n",
        "\n",
        "        # Construct the BWT from the suffix array\n",
        "        self.bwt_text = ''.join(reference[i-1] if i != 0 else '$' for i in self.sa.suffix_array())\n",
        "\n",
        "        self.Occ = {ch: [0] * len(self.bwt_text) for ch in \"$ACGT\"}\n",
        "\n",
        "        for i, ch in enumerate(self.bwt_text):\n",
        "            for ch2 in \"ACGT\":\n",
        "                if i != 0:\n",
        "                    self.Occ[ch2][i] = self.Occ[ch2][i - 1]\n",
        "            if ch in self.Occ.keys():\n",
        "                self.Occ[ch][i] += 1\n",
        "\n",
        "        self.count = {}\n",
        "        total = 0\n",
        "        for ch in \"$ACGT\":\n",
        "            self.count[ch] = total\n",
        "            total += self.bwt_text.count(ch)\n",
        "\n",
        "\n",
        "    def bwt_pattern_search(self, pattern):\n",
        "        top = 0\n",
        "        bottom = len(self.bwt_text) - 1\n",
        "        for char in reversed(pattern):\n",
        "            if char in self.Occ:\n",
        "                top = self.count[char] + (0 if top == 0 else self.Occ[char][top  - 1])\n",
        "                bottom = self.count[char] + self.Occ[char][bottom] - 1\n",
        "            else:\n",
        "                return []\n",
        "\n",
        "            if top > bottom:\n",
        "                return []\n",
        "\n",
        "        return self.sa.suffix_array()[top:bottom + 1]\n",
        "\n",
        "    def check_no_mutation(self, pattern):\n",
        "        ind = self.bwt_pattern_search(pattern)\n",
        "        if len(ind) != 0:\n",
        "            return True, ind\n",
        "        else:\n",
        "            return False, None\n",
        "\n",
        "    def check(self, pattern):\n",
        "        for i in range(len(pattern)):\n",
        "          if i == 0:\n",
        "            res, ind = self.check_no_mutation( pattern[1:])\n",
        "            if res:\n",
        "              return True\n",
        "          if i == len(pattern)-1:\n",
        "            res, ind =  self.check_no_mutation( pattern[:-1])\n",
        "            if res:\n",
        "              return True\n",
        "          res_left, ind_left = self.check_no_mutation( pattern[:i])\n",
        "          res_right, ind_right = self.check_no_mutation( pattern[i+1:])\n",
        "          if res_left and res_right:\n",
        "            sett = set(ind_right)\n",
        "            for j in ind_left:\n",
        "                if i+j+1 in sett:\n",
        "                  return True\n",
        "        return False\n"
      ],
      "metadata": {
        "id": "6C61wEIIeoQJ"
      },
      "execution_count": null,
      "outputs": []
    },
    {
      "cell_type": "code",
      "source": [
        "fasta_file = \"genome.fa\"\n",
        "text = SeqIO.read(fasta_file, \"fasta\")\n",
        "bwt = BWTSearcher(text.seq)"
      ],
      "metadata": {
        "id": "DRVwzIOBhVye"
      },
      "execution_count": null,
      "outputs": []
    },
    {
      "cell_type": "code",
      "execution_count": null,
      "metadata": {
        "id": "KsBY6xLD7H5S",
        "colab": {
          "base_uri": "https://localhost:8080/"
        },
        "outputId": "5a273ce4-8983-49b8-9e82-178458053352"
      },
      "outputs": [
        {
          "output_type": "stream",
          "name": "stdout",
          "text": [
            "error free:  45\n",
            "one mutation:  31\n",
            "5 mutations:  24\n"
          ]
        }
      ],
      "source": [
        "# Process each read through the BWTSearcher\n",
        "with open(\"sample_reads.fasta\", \"r\") as file:\n",
        "    count_zero = 0\n",
        "    count_one = 0\n",
        "    count_else = 0\n",
        "    for record in SeqIO.parse(file, \"fasta\"):\n",
        "        read_sequence = str(record.seq)\n",
        "        res, ind = bwt.check_no_mutation(read_sequence)\n",
        "        if res:\n",
        "            count_zero += 1\n",
        "        elif bwt.check(read_sequence):\n",
        "            count_one += 1\n",
        "        else:\n",
        "            count_else += 1\n",
        "print('error free: ', count_zero)\n",
        "print('one mutation: ', count_one)\n",
        "print('5 mutations: ', count_else)"
      ]
    },
    {
      "cell_type": "markdown",
      "source": [
        "Краткое описание алгоритма:\n",
        "\n",
        "Для каждого рида проверить\n",
        "1.   Есть ли паттерн в тексте по стандартному алгоритму, значит нему мутаций\n",
        "2.   Если первый пункт не выполнен, рассмотреть как отдельные паттерны все возможные пары срезов без одной буквы. Проверить есть ли во множестве вхождений правых срезов какое-то вхождение левого среза + его длинна. Значит 1 мутация\n",
        "3.   В противном случае 5\n",
        "\n"
      ],
      "metadata": {
        "id": "weaBvtg1ufja"
      }
    },
    {
      "cell_type": "markdown",
      "source": [
        "Это домашнее задание можно выполнять целиком в этом ноутбуке, либо алгоритмы написать в отдельном файле и импортировать сюда, для использования. В папке data лежат два файла islands.fasta и nonIslands.fasta. В них хранятся прочтения из CpG островков и из обычных участков генома соответственно, этими данными нужно будет воспользоваться в первом задании.\n",
        "\n",
        "#Задача №1 (1)\n",
        "Определите частоты генерации для каждого из нуклеотидов внутри CpG островков и вне их. Посчитайте так-же частоты для всех упорядоченных пар нуклеотидов и сравните частоту пары CG внутри островков и снаружи. Сделайте вывод."
      ],
      "metadata": {
        "id": "A_fKJt2R7LuM"
      }
    },
    {
      "cell_type": "code",
      "source": [
        "fasta_file = \"nonIslands.fasta\"\n",
        "sequence_record = SeqIO.read(fasta_file, \"fasta\")\n",
        "sequence = sequence_record.seq\n",
        "print(\"nonIslands\")\n",
        "gc_content = gc_fraction(sequence)*100\n",
        "at_content = 100 - gc_content\n",
        "aa_content = sequence.count(\"A\") / len(sequence) * 100\n",
        "cc_content = sequence.count(\"C\") / len(sequence) * 100\n",
        "gg_content = sequence.count(\"G\") / len(sequence) * 100\n",
        "tt_content = sequence.count(\"T\") / len(sequence) * 100\n",
        "\n",
        "print(\"GC-контент:\", gc_content)\n",
        "print(\"AT-контент:\", at_content)\n",
        "print(\"A-контент:\", aa_content)\n",
        "print(\"C-контент:\", cc_content)\n",
        "print(\"G-контент:\", gg_content)\n",
        "print(\"T-контент:\", tt_content)\n",
        "pairs = {'AA':0, 'AT':0, 'AC':0, 'AG':0,\n",
        "                   'TA':0, 'TT':0, 'TC':0, 'TG':0,\n",
        "                   'CA':0, 'CT':0, 'CC':0, 'CG':0,\n",
        "                   'GA':0, 'GT':0, 'GC':0, 'GG':0}\n",
        "for i in range(len(sequence)-1):\n",
        "        pairs[sequence[i]+sequence[i+1]] += 1\n",
        "for i, f in pairs.items():\n",
        "    print(f'{i}-контент: {f/len(sequence) * 100}')"
      ],
      "metadata": {
        "colab": {
          "base_uri": "https://localhost:8080/"
        },
        "id": "tBadNffixLme",
        "outputId": "2886f6d4-acae-4acb-a212-15192f1695fc"
      },
      "execution_count": 4,
      "outputs": [
        {
          "output_type": "stream",
          "name": "stdout",
          "text": [
            "nonIslands\n",
            "GC-контент: 39.45845672879991\n",
            "AT-контент: 60.54154327120009\n",
            "A-контент: 28.929861153616176\n",
            "C-контент: 19.613640750872204\n",
            "G-контент: 19.84481597792771\n",
            "T-контент: 31.61168211758391\n",
            "AA-контент: 8.987584336583597\n",
            "AT-контент: 8.209780924983404\n",
            "AC-контент: 4.712961349950328\n",
            "AG-контент: 7.0190637167891605\n",
            "TA-контент: 7.100516495364725\n",
            "TT-контент: 10.748941820116482\n",
            "TC-контент: 6.47573130941227\n",
            "TG-контент: 7.286492492690437\n",
            "CA-контент: 6.818492134863202\n",
            "CT-контент: 7.265776179064281\n",
            "CC-контент: 5.001577264787446\n",
            "CG-контент: 0.5277951721572745\n",
            "GA-контент: 6.02326818680465\n",
            "GT-контент: 5.387183193419745\n",
            "GC-контент: 3.4229000014124757\n",
            "GG-контент: 5.011464596290838\n"
          ]
        }
      ]
    },
    {
      "cell_type": "code",
      "source": [
        "fasta_file = \"islands.fasta\"\n",
        "with open(fasta_file, \"r\") as file:\n",
        "    L = 0\n",
        "    pairs = {'AA':0, 'AT':0, 'AC':0, 'AG':0,\n",
        "                   'TA':0, 'TT':0, 'TC':0, 'TG':0,\n",
        "                   'CA':0, 'CT':0, 'CC':0, 'CG':0,\n",
        "                   'GA':0, 'GT':0, 'GC':0, 'GG':0}\n",
        "    ones = {'A': 0, 'T':0, 'C':0, 'G':0}\n",
        "    for record in SeqIO.parse(file, \"fasta\"):\n",
        "        seq = record.seq\n",
        "        L += len(seq)\n",
        "        for i in range(len(seq)-1):\n",
        "            pairs[seq[i]+seq[i+1]] += 1\n",
        "            ones[seq[i]] += 1\n",
        "        ones[seq[-1]] += 1\n",
        "\n",
        "print(\"Islands\")\n",
        "print(\"GC-контент:\", (ones['G']+ones['C'])/L*100)\n",
        "print(\"AT-контент:\", (ones['A']+ones['T'])/L*100)\n",
        "for i, f in ones.items():\n",
        "    print(f'{i}-контент: {f/L * 100}')\n",
        "for i, f in pairs.items():\n",
        "    print(f'{i}-контент: {f/L * 100}')"
      ],
      "metadata": {
        "colab": {
          "base_uri": "https://localhost:8080/"
        },
        "id": "PBil9FnT3R3M",
        "outputId": "e368e1c8-10a4-4a7a-cf61-51821eb28ebd"
      },
      "execution_count": 5,
      "outputs": [
        {
          "output_type": "stream",
          "name": "stdout",
          "text": [
            "Islands\n",
            "GC-контент: 59.46734135667396\n",
            "AT-контент: 40.532658643326045\n",
            "A-контент: 20.246225382932167\n",
            "T-контент: 20.286433260393874\n",
            "C-контент: 29.639660831509847\n",
            "G-контент: 29.827680525164112\n",
            "AA-контент: 5.118626914660831\n",
            "AT-контент: 3.3400984682713344\n",
            "AC-контент: 4.586980306345733\n",
            "AG-контент: 7.188840262582056\n",
            "TA-контент: 2.8439551422319473\n",
            "TT-контент: 5.100109409190372\n",
            "TC-контент: 5.949972647702407\n",
            "TG-контент: 6.380005470459518\n",
            "CA-контент: 6.286187089715536\n",
            "CT-контент: 7.171307439824945\n",
            "CC-контент: 10.27417943107221\n",
            "CG-контент: 5.895432166301969\n",
            "GA-контент: 5.984463894967177\n",
            "GT-контент: 4.663539387308534\n",
            "GC-контент: 8.815618161925602\n",
            "GG-контент: 10.350683807439825\n"
          ]
        }
      ]
    },
    {
      "cell_type": "markdown",
      "source": [
        "Внутри CpG островков GC-контент больше на 20%. Соотношение A:T и G:C примерно 1:1 для обоих случаев. Среди динуклеотидов в островках преобладают GG, CC > GC > AG, CT. А вне островков TT > AA, AT > CT, TG, TA, AG."
      ],
      "metadata": {
        "id": "JHQ3DnaL5n0e"
      }
    },
    {
      "cell_type": "markdown",
      "source": [
        "#Задача №2 (2)\n",
        "Напишите марковскую модель, которая имеет открытые состояния {A, T, G, C}, и скрытые состояния {+, -}. Когда модель в состоянии +, то вероятность генерации некоторого символа нуклеотида соответствует его частоте внутри CpG островков, вычислиному в первом задании, если состояние -, то частоте вне островков. Вероятность остаться внутри островка 0.95, а перейти в обычный геном 0.05. Для остальной части генома соответствующие вероятности 0.995 и 0.005. Саму модель можно реализовать в виде итератора, определив метод next, который возвращает пару - состояние и нуклеотид, который в этом состоянии произведен.\n",
        "Воспользуйтесь данной моделью для того чтобы сгенерировать набор из 20 последовательностей длинной от 1 000 до 100 000, причем к каждой последовательности должна прилагаться последовательность состояний."
      ],
      "metadata": {
        "id": "AknymfXA7L3E"
      }
    },
    {
      "cell_type": "code",
      "source": [
        "cpg_island = {key: val/L for key, val in ones.items()}\n",
        "non_cpg_island = {\n",
        "    \"A\": aa_content/100,\n",
        "    \"T\": tt_content/100,\n",
        "    \"G\": gg_content/100,\n",
        "    \"C\": cc_content/100,\n",
        "}\n",
        "\n",
        "# Вероятности переходов между состояниями\n",
        "transition_probabilities = {'+':{\"+\": 0.95, \"-\": 0.05}, '-': {\"+\": 0.005, '-': 0.995}}\n"
      ],
      "metadata": {
        "id": "ji3LqS8b70Bq"
      },
      "execution_count": 6,
      "outputs": []
    },
    {
      "cell_type": "code",
      "source": [
        "class HMM_generator:\n",
        "    def __init__(self, length):\n",
        "        self.length = length\n",
        "        self.state = '-'\n",
        "        self.n = 1\n",
        "\n",
        "    def __next__(self):\n",
        "        if self.n <= self.length:\n",
        "            if self.state == \"+\":\n",
        "              nucl = random.choices(list(cpg_island.keys()), weights=list(cpg_island.values()))[0]\n",
        "            else:\n",
        "              nucl = random.choices(list(non_cpg_island.keys()), weights=list(non_cpg_island.values()))[0]\n",
        "            self.n += 1\n",
        "            state = self.state\n",
        "            self.state = random.choices(list(transition_probabilities.keys()), weights=list(transition_probabilities[self.state].values()))[0]\n",
        "            return nucl, state\n",
        "        else:\n",
        "            raise StopIteration\n",
        "\n",
        "    def __iter__(self):\n",
        "        return self"
      ],
      "metadata": {
        "id": "yA8eRuW2MFbW"
      },
      "execution_count": 7,
      "outputs": []
    },
    {
      "cell_type": "code",
      "source": [
        "sequences = []\n",
        "for _ in range(20):\n",
        "    length = random.randint(1000, 100000)\n",
        "    sequence, state_sequence = '', ''\n",
        "    for n, s in HMM_generator(length):\n",
        "      sequence += n\n",
        "      state_sequence += s\n",
        "\n",
        "    sequences.append((sequence, state_sequence))\n",
        "print(sequence)\n",
        "print(state_sequence)"
      ],
      "metadata": {
        "colab": {
          "base_uri": "https://localhost:8080/"
        },
        "id": "dd49nfFp8ZDO",
        "outputId": "ed9fb394-2305-4c2e-b6e1-db3e70f208ee"
      },
      "execution_count": 8,
      "outputs": [
        {
          "output_type": "stream",
          "name": "stdout",
          "text": [
            "CGTTAAAATATCTCATTCTCATTCATAGAACTGACACAAAGGCTGGGTGATTGATATTTGGTGTCGTCTCACCCACTGAAACCGTCTAACCTTAGCAAACAGGTCTCCCCCTTGATTTGTCCGCGCTCTGGAATACTGATGTCGTCTGTATAACATTATGGTTCAATCTTGACAGTCCGTCGCGTGTTGTAGGGATAATTGTATGGGCACGCACGAGGAGTGTGCCAGCGAGCTATCGATCATTTAGCTTGACTCAACAATCAAGACATGGTAGTTTATCTACCGAACGGCTACTTTAAATAGGACTATGGGTAGGCGATTCTATACAAATCAATATATAGTCATCACGTCCTCGGATATATAGGTTCTGTAGCTACAGATGCAGGGAGGGCTCGCCTGAGTACAGGTTTATTGTGCGGTTATACCTTTGCCCGTTCACTGCTCAAGTGCCTCGAACCTGCCATATGTATGTTTCAAAATTTACATCAGTACATCTTAACTACACTCACTCTACCATATTCTGCATCAAGGGATTAGTACACCATATTGGTGAAGTGCTCGCCCAGGGGCTCTGTCCACCCGTATGGATGGGCATGTTTTGGATACTTTGATCGTCCGAACGTCTTTGCGAGTCCCCATGCTATGAGCAAACATTTGTGGCGGGGGAGATACATTGACGGACACGACTCATGCCGTCAACGGACGGCCGAACTTATTGTGGGAAGAAGGAGGCCTCCAATAGGAATGATGAGTTTTCCTAGTAGTACCTTTGCAAGCAACTGAATTTTGTTTGCTTTATTACTCATGATTACCGTAACGAAACAATACTATCGCAGGTAGGCGTATATTTAATGTAAACAATTGTGACTCGTTGTTACGCTCTGTATATAATAATGTCCATTTCGAACAATTCTAGATGTTTTGCGAGTAAGCTTCTGAGACTCTTTGGTACGTGTAGTTTCTTCCCGTATCCAAATCGATCATTTTGTTCTCTTTCTTGTACTAGCACGCTATGAGATTTTTCCGCGGTCGTCTCTTTTTTACAAATGTCGACGAAAGCTGCTCGTTTCCTATAGCCTCGGCATGTTGTCAAAACGTAAATCTTTACTATTGCTTGCGTTTATGTTAACACATGTCGGGTCGGAATCCACATCTCAAAAAGAAAATGTAGTGAGGGCTACTATCGCCTATATATTCAGCATATTATCCTCGACCATAGTCCAACTGAGTTCAGATCCGTGGTACATTTACTGATCTGCTGAAGTAACTGCACGTGTTTAGTTCGTTGAGGCGAGTCGGTTAACTAACTTTACTCGAGAGCTCAACGCACTACGCTAAGTGCTTGTACCTTTGCACGATACTCTGGTCGGCAGCGGGTACCGCCGCCGTTGGGTAGACACCCGTCTTGCGTGCGGGCTTTTCGAGTGGAGTCAGACTAATATCGCTATACTAAGGACCTATTGACTAAATCCAATATATGAATATCGGTAACTCTCGATAGGACTAATTTAAATGTTTATAAGACCCTATCAGGACTCGGTTTACTGGATTACCTATATAGGGTCTGTAAGGCTGTTATATAGATCCATTAATCTCACAAGTAACTCGTTGAGTTTTGTGGCTCAGAGTCCGTTAAACATTGTGCGGGTTCGAGATGCTATTCTTCTGTTAGACCCAATCTTCATTCATGATTCTTGTAGTGTCGGAGAGCCCCTCCTCACGACGGCAGGTTTAGTCTTTTTCTCCTTTTTAACACTTTAGGTACTGCCTGAATAAGCACTAATAACCCCTACGCCATTGGAACGTTTTGCGCTTGGAATATAAGCGCTATAACAGTGTTTTCTGACCTACTCTAAAACCCCATATCTGGATTGGATTCCTAGAGTCGATAGGTGCTGCACGGACATCTCCTATGGGTGAAGCTGAAATCATATGGTGGGCAACCAGCATGATGATGCTAGTCGTCGGCATAATGCGCTGGAAAATGAGGTTATAGCAGGTAAAAGTTTAGACGTAAATGTCATATAGATTACCCCAGAATAGGTTTTAGTTCGTAGCACAAGAGCAGAGGGCTTCTTAGTTAACATTTAGCCTCCTGTCGCCATGTCTTGATCTCAGTGATACATCTACATATTACAATCAATCAGGAACTAGAGCCGCGCGTACCAATGATTCGTACAGTTGCCAGTACGCACATTAACATTGTGAAAATTCGGAGCTATGGCTTCAAAATTATAAAATACTAAATATTAAATGGATATTTTGTTTTCGAACTTACGTGTGTGCTTAATAATCTTCAGTCGGACGGACACTGTGAGTTATGACGTTACCGTAGCTATCCAGCCTCTGACCTTTCATTCATCTCCGCTATGTCCCGACCCCTAATGATAATATTATGCTCTCACCCTTTTTGATACTTTCTGCGTGTCTTTATCTCAGTGGAATGGCTCGAATCTATTCGGACTTTACTAATCGTGAAGATGTGCTGTAATTTTACGTACGGGACCTACATCACCGGTGGCAGTCCACATTTCCAAAATCTTCATTTAGCCCGGTTTGATCCTGGTTCCATTATCCCCCCCCAATCAGGTACCCCCTTTCCGTGAGATACTCTTTATATCCTTTACAACGGTCACATCTTACGTGGAAATGCGATTTAGTCCATTTCTGCGCTGATCATTGACGACAAAGAAAATCACTAACTTTTCTCGAATTTAGTTTAATCATCGATGTATACTTAAAATACTTGTACGGGTGGATGTTTGTACCTGAGTTACAGTTCAACTTCGAGATTCCGTTGATTGGAGTGTGTCTGCTACCTCACTGTAAAAAGCTCGTTCATTTCCACCATCCTTAAAATGATGCTCGCTGGGCGGAGTGCGTAGGGTATTGATCCTGATATCTGTAGAAATCACGGTTGACCAGTCCGGTGCGGGTGCGGGATACTTCCACTGACCTACGTCTCTGCAGGAACCGGACTTCCTATTCTCAGCTTGTTCCAAGTTTTGGATTAACTACCCGTATAAAGAACATCACTCATAGCCTCTGAGGCTTAAAATATCGATGATCAAACGAGAAATTTTCTCCTGGCGCAAATTGCTAAGTTCAATGTCTCAGGTCTAATTATTATTTCGATATGTTTAGTTCTAAATGACGGCGTAGACGAATTATCTTAGGTGGAAAGTCCTGCTAATATAGATTATACAGAAAACTTCTTTAAGCGTCCGGCACAGATAGCATTCTATAGCATTCACTAAATACCCCATTTTCATAGTGTGAGACTTTCGTTGTCAGAGAAATGATCTCGGTGACCCGACCTAGCTGTTAAAATAACAAACTAGCTAATGAATTGCGTGCACTTGGGTTTCAAAGGAATAGGATTGGTCCATTAACTTCTAATTCTCGCAGGTGTAATACTTACAACGTGTAATTTCTGGTATAAACAGTTTCTGCACTCTCGGTTTATGCAATCGATTCGTAGATTGTTAACATATACGTAAGTTTAAATGAGCGCCTTTATTGTTGGCTTGATGAATTGCTACATTCCTCATACATGACGTTCTGACGTTCCCACCGTACGTGCTGCTTGAAGGTAGGCAATTTACTACATAGTATTAATTTAGATCGTATTCCATGCGATCATTCGAAATAAATTCACTTGTGATTCATGGGGTATGAGCTTAATCTCTTACAGATTCATCGGAATATGGTGTACGGTCGATAAAAATTGTACACCATTTCTAGTATTAATGGTCCACTAAGTCTCGGAGACCATTAGTGGAAATAAGGCCTGAACGTCATACCTGGTTGGAACTAAGAGTTCGAGGCAACACCACGGTATTGACCTGGCTCGATCGCACTCGCCCAACGGCATAAATTCCACATTGGCATGTCAGTAAACGAACGTCATTATTAGAACGGCTATGTGTCTCCAGCACGTCGTCAACCGTCTCGGCTATATATTATTTCATCTCTACCTCCTTAAGTATAAATATCTGGGACGGCAGGTGTAACGGTCCCTAAGCGAGCTTCGTCACTCATCAGAAGTAAGATTTTTTTACCTTCATGTGACTAATTGCGAAACACAGCGTCGCCGGTCCCGGATAATGGGATTTACATAAGTTGTAACAGTTTGCTCTATTAAGCGCTCTGTACTACCGTCTCTAGCTTGTGTCACTTAGATAAGGCGCTTTGTATAGAGACCGAGGAAAGGTATTACCAACGTGGCTGTAAGACAGCTGTGTTGTAATCACATGTAACTGGATAAAGACCAAGCAGATATTACCACTAAAGTTTTAACCTACCATACTGCGCCTAGTAGTTTCCAAAATGTTTCTAGATATTAAAAGCATCCTGCTACTTTGTAATAAAATCTCCTGGATTAATACAGCGAGAGAGAAGAGTTTACTGTACGCAGAATTCAAAAGTCATTTACTGTATTCACTATAAGACCACTGCAACGATGCATCTTAAGGTTTTAGGGGGCTACAATATGGGGCTACCGTGGATAATCATTATTAAAGCAAACAGTTATTGGGAGAAAATAATCCTAGTGAATCTACTTAAGGGAAACTTGTCAGTTTCACGAAGCAGGTTGTGCCGCAGACCAGACAGTTCCGTTCACATCTAAAAAGTGCGAAATCCTAGAACATATTAGTTGGTCGTGGTCGCAATACGGTGCCCACATTCCTTAGCATGTACTTCAAACGCCTTCGAGTAGCGAAAAGGTAAACCCTTCTCTGTTAATGCATTAAGACTCAATATTCTGGGCTTTTAGATACAGTGGTCCGTCTTAATTCTTCATAACACCTAATTAATCATTCTTTAGAAGTTCCTAAGTCTGGACACCACAATGTCGCTCTAGCTTCAATTAAATACACGTATAAAGCCAGGGAGGATTCTGAGCAGATAACTCTTACGCAATCGGAATCGTCTCAACGCGTATGAAGATATTCGAGAACTTAGATCTTCACCCGCTAGTAGCGTAACAGGTTTACCTAGATCCGCATGACACGGCTAATTCGCCGACTAGATATACCATATATATATCCCAAAAACTATAGCTTGTCATTCATGTATGTCTCACGAAATATTATCACGTACGATCATTGTAAAGAATTCTATAGATTTGTTAGAGCGATTTCTCTAATTTCTGCCAGGTTGGTGTATTACTGAAGAATTAAGAGTTTACTTTACGACGCAGTTATCCTCTTCGACATTTGCAATAGTCTAATTTTATTAAAGCATCATTAGGAGGGTTCTACCGTGAAGATCCATGGAGACCGACAAATTATCAAAAAGGCGAGCCTATCTTTAGTGTAATATCCCGTAAATTACAAGTTCAAGCTATTACACATTTTCATGTCACGTACTTTTCGATAGAGTCAGTGTTGTGATGTATGAATCCCTAACTGACTGACTTAACTCTAGGAAAGCATTGTATGCTGTGCGTCCAATAATATCGTTAACGGCATGATAGATATGCGAATTAGTACAATGTAAGTACTACAGCCCAGATTAAACGGCCAATAAGGGTCAGTCTGAGAACCCCACCTCGTGCATATGACATTGAGCAATGGCATAGAAGATAGTGAGTAACCCCATCGATGCCAAATTGAGCCTCTTAATTTAAAAGCTTCGTTGGGTATTACAATACACGAAGAGAAGACCTAATCTTTAGCAATTTAAGCAACGCGTTGCGGCTGATATTAGATCTGTCTTATTGGTAAGGAATTGGACTGAGTAAATATGCATAGATCGGTTAGATGGTCCGCAATGGTGCAAAGCTACAAACGTATTAGGAGTTGCACAAGGATTATAGTCCAAGACTCCATTGTCAGACAAGGCCCTTCATTGCAAGTTTTGTTGCCCTCGATAATGTATTGTCAGACTACCCATCCAGTCCGGTCAATGTCTCAAGAAATGCTCATGTCTCCTCGGATCGCTCAATAGGACATCTATCTGCTATATGACCGGTTTCTAAGGGTAGAGCTTGTATTCTACCTAAATTCGTTACTTCGGTACCGCGGACACTAAATCGGCTGTTTATTAAATCGAACTCCAAACTGAAAGTCTGTGCGGTGGAAGACGACTGGCCCTAGGACTGTGAGCCGGGAACCGGTCTCGCCCAGCGTGACGGATCTCGGGCTGCGGCATCGGTTAGCGTTCCGGAAATCGCCGAGACGGACCCTAATTCTTCAATGAGCTGACGAATTGATACCTAGGGGTCGGTACCGGTTAGACTTTCACGCATCCTAGATATGAATTAGATTAACAAATCTCTTAACTAGAGATGATCAACTAAAAACGTGTGTAGAGGGCACGATCGGACCATAAGATAACAGAAAAGCAAAACGAGTTGTGGAAGAGGCCGCCAATGTAGCTATTGTTCCCCACTTCAAGTCACAAACGAACGTACTCGTCGATCTAAAATACTGTTGAAGTAAACTAATTAGCTGCGAAGGGTATCGGTTTGGGTAGAACCCTGTTATCCTCTTTTGACGATGTGTGGAGTCTCACACAGACACCAATAGTAGCCGTGACAAGTGTTGTTTGGTGCTTTCTACCCGCATGAGTCCAACGTACCTTGTGACATAACGTAACATCTAAATAGACAACCTCACTTTAAAACATTGAGTTTTAAGCTCAATATTTCGAGTACGTGCAGCTGTTAACGGATTATAGCTGTCGAGTATCGGCAATTTTGCAATTTTAAGTATCTACTTAAAACTGCTAGGGCTCTCAGACGCCCGATAGTTTCAAGACGAATCACACTTAATCGAATTGAGTATACAGGTGGTGTCCTTGGACATGACAAATGTCCTATACCTAACGCGAATCTGATGTTGCCATTATCAAGTGATCGGTCATATCAGAGAGCACACGGACGTGTTCGCGTATCGTTATGGCGGGGTCGAAGACGAAGTTCTATTGAATAATAGTTCCCTTACATACAAATAAACCGTAAGCGCTCAAGCTAGATGGTGATCTCGCTTCACTCAGCGAGATGGCATACTACCGCTCTCTCGGCGGATGATATTAATCTGTTAGAATTGAGTCCTTCGCAACTGAATATGAGATATAGTTTAAATAAGTAGAAGATATATACACCAATTGAACGAGAGTGTTTCCTAACCCTGGTGAATATTCTACCTGGATTCACGTCGGTCCATACAGCTACTAATCATGTATCATACTTATCAAGTAGTATTGACAAGCTCATATTATCTTCTTTAATCGGCTAGAAGCTTGTGAATGCATGCCGGAAGGATGTCGTAAGCTTCGAAATGATGAGTTCTTAACTCAATTCAATTCCCTAAAGTATATTAAAGACGGTACACTTTATCGTCTTATTCGTGTATTCGTTACTATCTACTCTCTGACAAACCACACACCTAAGGCTGCGTCTGAGGTAAAGTAACTTACTTTTTCCTACTTTGACTTGGCCCTTAAACAGTAGATCTATTCTATGGCCATTCGGAGATTTATTCCAATGTCTACAAGTGATCGAGTCTACACAAACTCGCGTCAAACAAAAATCAGGTGGGGGGAAAAGCTAAAATTAGGAATTTAATAAAGACTAGCGACCACGAATTGGACCCCTTGCTTCCCGCCGGTAAATACAATGCACTTTAACAGATATATACATATTGCTGACGCGTCCCGGTACGTAGGATGTAAAAAATCCAGTGCTGTTATTCCCACTTTATTACGCTCATCCCAGAGTTGTTTTGCTTTGTTGATTCGAGACCGACGTCTGATTTCACTGATGTACATTAGGAAAGAACGGTAGACTACGATTAAATTTTCATGACTATTCTTGAGATTCATCTACCCTAGTATAATACAAAACACTTATGGACAATCTAAAGCATATTGGTTAAAAAAATTGGGGTAGCCTATATACCCAAGGCACCTAGTATATCTTGGTACGCTTGATGAGAGGTTATCATACCACCTAACGTGATATAACGACAATTGTTATAAACTAATTCCAAACTTTAACTAAGAGGGCACATCCGCAGTGCACTGCTTTGCCGAACTGCAAAGGTCAGTAGTGTAATAGATCCGGGTAATGATAATAAACCCGCCATCGCGTACTGCTTAACTTGAGTATGAGACGGATGTGCAGCAGATTAGGTTTCTGATCATTTTAAATCATATTCCGGAAACTAAGGCATTATTGTCCGTTAGCAGTAATATGAATTCATAAGAAGCTTAAGTTAGATAGTCGGAGCTGTTTGTATCCCTTCCGTTATTTGCTTGATTGAGATGAAATGAAGCGAGAATAATTGTCGTGAACTCAAGCGAAGATTCGAGCCCAATAGATTCCATTAATGAGATTCAAATAAACACTGCTGGTCGCTGTTCGAGTATGTCGCCAAATCTGTCATTTCCGAATGGTTAACGCATTGTAAGAAAACAGATACGACACTTCCATTATGGTAACTTTGGAACTTAGGTCCACTTCAAAATTAGCACATTTTTAAAAGACTCCTCTTTTATGTGTGTGAGCTATTCTATTGTTCCCCTCGTGGCCGCTCCCTGGGTCTACTTTTCAACTCGATTTGGATGAGGTCGGGTTAAATAATGGTTAAACGAAGCGATTTGTAGACGTATCTTTCATAGTCAGAATGAATGGCCAAGAAAGCGCAGAGACGGCGTACATACATGCAATAGCTAGCGGGTAATGGTTTAATATGCGAAATCAGATTGAGGGGACTCTACACGTGGGATCGTACTTTTTCCTCGTCTATTAAGATTCTTTGTTTTAAAGACTGGTAATCCCATTTTATAAGCATTGGCGGGGATGTTACTAAAATGCTAAAGGCTTCGCTTCAGGTGCGGTCGTCTCCAGTTCAACGTGATCGTACAATAAAGCATGTTGTAGGTAATTGGTGCAAAGTCCACCACCTTTATTACACTCTCGGTCATGCGGCTAACATGCATCTAGAAGCGGAACCGGAAACATACGTTAGCCGGTTGGGCTCTGATACAGCAATATCTAGAATCTTATTCGATCTCGCCAAAAAAAGGCAGAGGACTTCTGTAGAACCTTTCCCTATTCGGTTGGTTTGCCTTGATTTTGTTAAACATGTTCTAATTACCATAACTTGAAGTATCTCTATAATTAGGAACGGCAGATCAGTGCAGTTGCATTCCCTTATCATGGTAAGTGTGCCCGTGGGGGCCTATCAGGATCCGTCAAGCCTAGAAGGGCGAGACATCAACAAATACTGTAACAGCAGATCGAGCTCGCTCTAGCACCTAGAATATTTAGCGAAAACTATCACTCATAACAAATGTGCCGATACATCTTTGATCTTCAGTTAATATATGCAATATAAAAGGTATCAAAGGGGCCCTTAAACCAACCCCTTCGGCGTTCCGTCCTGACATGTACCAGTGATCCAGCGCGGGCACTTTATTCTCCTTGTATTTATTTGGTCCCTCTATATCTCGCATCTTTCACCCATATGCAACGAAGAGTGAAATATACGTATCCGCCGTACCCGGTTTTCAGATCAGTTCCGGAAGGTAATTAGTTTTGTGCAAAAATCTACTAGCAATATAACAGTCACTCCTATATTGTTGAACAAAGCATTTTATAGGCTACTTACGCAGGAAGAAACTGGGGTCTTAACGTAGGAGAACTCCTCAAGCAATTTATCCTTTTATCGACACGTGGCATATGAGATACGGTTTAATACCACCTACACATAGGAATGCTATTGGATAATACGCGCGAAACGTCTAGACATGTCCGCGTCGTGCCGCGTCTGGCAAGACGTTGGGGTGTACCATGGAAATTAGGCGTTTACATTCCAGTGGGAAGACCTTCACTCGATTTAATCCTAGATTGAGCAGAGCTGGTAATATATAAATCGTAGAACCCCTAAAAAATTGAGTTTTCTTTATAACGTGCTATATATCATACGCAAACTGATTAACAATTACAAATGTATCGTCGACGGATCGTAATAAGCCTTATACCGGAAGAGATCCAACTGGTTTAGTGTAGTCAAGGTGGGCCAAGCTAGAATAAAATACGTGTATGTCTAATCGGTCAGGGTTTTGAAATTAGGAATATAATAGATTTGAACGCGAGAGCTAACATGCAATGGGAATGAATAGGATTTGACATTTCCCGGTCTCTACCCCTCCTAAAGAACCGAGTCCGGAAGGTTTGCGGCCTAGTGTAGGTAAGAAACCACCTTACTACAAACTTCTAAACATAGTATTACGTGCTTCTCTATTTTTGTTATTACGTTTCTCGCCCTAGGCAAATCATATGTAGCTAGTAATATTGAGTTCAGAATGTAAGGGTAAACGAGGATAACCAAGATTGACATTATTTACAAAAAACAGTTGCCGCCTATAGATCTCGATTAATACACTTTGGTAGAGGGTCTGATGAGAGACTTCACTAAGTATCTTTAATTTTTACTCCGTCACTCTAGTTATGCGATTGCAGACTTAAAAATTTACCGCAGCTAGGTATTTCACACACTCAATTAGTGAATTACTCAGCTGTGTGCAAGGATGACACGGATGGGTCATGTGAATTGGTGTTTTAAGGATGTGTTCATTTAGTAAATTAGCTAATTTAGCATAGTTTCACAGCTATCCAACTACGCGGAGGCGGGGCTACGTGGGCAAACGCATTATGTCGACCGTGCCCTGAGATTTCAAACTTAAGTGTAGCCCTCCGCGTATTTGAAGCTATATTAAGATGCGTAATTCGATGAAACCATTTGTATTATCTAAGGGGTTCAAAGTTAGCTGAGCAGAAAGTGAACTCTGTTATATTCATCGGTAAGATTCTGCATAACCGATTGGACCCAAGCACACTCTTGGTGTGCTCTTGGCAATGGGATACGCTCTGCTTTAAATCCGCTTCCTTTTTTCACATTCAGTGTATTGAAGTAGATACATTTATGAACTGTTTCAACACTTGAATTACTCGAGGAAATATATTACGAACTTAATTTGGTTCTTGTACTCAATCCCAAGCGATACAGATAGCGTTCCTTTACGCGAATATTCTAGTGAATTCGCCGCATCACGAGGAAAATAGACCAAACACTAACGGACTGTAAGCATTCCCAACTCTCATGTGAATCTCGATGCTCTTTCTTTAAGCGGTTTTCTACTAGGCGTCTTGTGATTTATTCACAGTATTCACCAACGGCCATCTTGAAGACAACTCTCGTGCAGCCCCCAGGCAAGCGGACCCCGAATTCGACTAAGATTTGACAATGTCAACTGTTGCGATTAGACATGTATTGGTCTTCCGAAGGCCATCCTCAGGCCCCGTGCGATGAAACTTCCTTATGGAAATTCAATATGTGAACTAAC\n",
            "-----------------------------------------------------------------------------------------------------------------------------------------------------------------------------------------------------------+++++++++++++++++++++++++++++++--------------------------------------------------------------------------------------------------------------------------------------------------------------------------------------------------------------------------------------------------------------------------------------------------------------------------------------------++++++++++++++++++++++++++++++++---------------------------------------+++++++++++++++++++++++++++++++++++++++++++++++-----------------------------------------------------------------------------------------------------------------------------------------------------------------------------------------+---------------------------------------------------------------------------------------------------------------------------------------------------------------------------------------------------------------------------------------------------------------------------------------------------------------------------------------------------------------------------------------------------------------------------------------------------------+++++++++++++++++++++++++++++++++++++++++++++++++++++++++++++++++++++++++++++++++++++++++----------------------------------------------------------------------------------------------------------------------------------------------------------------------------------------------------------------------++++++++++++++++++---------------------------------------------------------------------------------+++++++++++++++++++++++--------------------------------------------------------------------------------------------------------------------------++++++++++++++++++++++-----------+++++++++++++++++++++++++++++++++++++++++++++++----------------------------------------------------------------------------------------------------------------------------+++++++++++------------------------------------------------------------------------------------------------------------------------------------------------------+++-----------------------------------------------------------------------------------------------------------------------------------------------------------------------------------------------------------------------------------------------------------------------------------------------------------------------------------+++++++++++++++++++------------------------------------------------------------------------------------------------------------------------------------------------------------------------------------------------------------------------------------------------------------------------------------------------------------------------------------------------------------+++++++++++++++++++++++++++++++++++++++++++++++++++++++++++++++++++----------------------------------------------------------------------------------------------------------------------------------------------------------------------------------------------------------------------------------------------------------------------------------------------------------------------------------------------------------------------------------------------------------------------------------------------------------------------------------------------------------------------------------------------------------------------------------------------------------------------------------------------------------------------------------------------------------------------------------------------------------------------------------------------------------------------------------------------------------------------------++++++++++++++++++++++++++++++++++++++++++++++++++++++++++++-------------------------------------------------------------++++++++++---------------------------------------------------------------------------------------------------------------------------------------------------------------------------------------------------------------------------------------------------------------------------------------------------------------------------------------------------------------------------------------------------------------------------------------------------------------------------------------------------------------------------------+++++++++++++++++++++++++++++++--------------------------------------------------------------------------------------------------------------------------------------------------------------------------------------------------------------------------------------------------------------------------------------------------------------------------------------------------------------------------------------------------------------------------++++++---------------------------------------------------------------------------------------------------------------------------------------------------------------------------------------------------------------------------------------------------------------------------------------------------------------------------------------------------------------------------------++------------------------------------------------------------------------------------------------------------------------------------------------------------------------------------------------------------------------------------------------------------------------------------------------------------------------------------------------------------------------------------------------------------------------------------------------------------------------------------------------------------------------------------------------------------------------------------------------------------------------------------------------------------------------------------------------------------------------------------------------------------------------------------------------------------------+++++++++++++++++++++++++++++++++++++++++++++++++++++++++++++++++++++++++++++++++++++++++++++++++++++++++++++++++++++++--------------------------------------------------------------------------------------------------------------------------------+++++++++++++++-----------------------------------------------------------------------------------------------------------------------------------------------------------------------------------------------------++++++++++++++++++++++++++++++++++++++++++++++++++++-------------------------------------------------------------------------------------------------------------------------------------------------------------------------------------------------------------------------------------------------++++++++++++++++++++++++++++++++++++++++++++++++++++++++++++++++++++++++++++++++++++++-----------------------------------------------------------------------------------------------------------------------------------------------------------------------------------------------------------------------------------------------------------------------------------------------------------------------------------------------------------------------------------------------------------------------------------------------------------------------------------------------------------------------------------------------------------------------------------------------------------------------------------------------------------------------------------------------------------------------+++----------------------------------------------------------------------------------------------------------------------------------------------------------------------------------------------------------------------------------------------------------------------------------------------------------------------------------------------------------------------------------------------------------------------------------------------------------------------------------------------------------------------------------------------------------------------------------------------------------------------------------------------------------------------------------------------------------------------------------------------------------------------------------------------------------------------------------------------------------------------------------------------------------------------------------------------------++++++++++++++++++++++++++++++++----------------------------------------------------------------------------------------------------------------------------------------------------------------------------------------------------------------------------------------------+++++++++++++++++++-----------------------------------------------------------------------------------------------------------------++++++++++++++----------------------------------------------------------------------------------------------------------------------------------------------------------------------------------------------------------------------------------------+++++++++++++++++++++++++++++++---------------------------------------------------------------------------------------------------------------------------------------------------------++++++++++++--------------------------------------------------------------------------------------------------------------------------------------------------------------------------------+++------------------------------------------------------------+++++++++++++++++++++++++++++++++++++++--------------------------------------------------------------------------------------------+++++++++++++++++++++++++++++++++++++++++++++++++++++-------------------------------+++++++++++++++++++++++++-------------------------------------------------------------------------------------------------------------------------------------------------------------------------------------------------------------------------------------------------------------------------------------------------------------------------------------------------------------------------------------------------------------------------------------------++++++++-------------------------------------------------------------------------------------------------------------------+++++++++++++++++--------------------------------------------++++--------------------------------------------------------------------------------------------------------------------------------------------------------------------------++++++++++++++++++++++++++++++++++++++------------------------------------------------------------------------------------------------------------------------------------------------------------------------------------------------++++++++++---------------------------------------------------------------------------------------------------------------------------------------------------------------------------------------+++++++++++++++++---------------+++++++++++++++++++++++++++++++++++++++++++++++++++++++++++++++---------------------------------+++++++++++++++++++++++++++++++++++++++++++++++----------------------------------------------------------+++++++++++++++++++++++++++----------------------------------------\n"
          ]
        }
      ]
    },
    {
      "cell_type": "markdown",
      "source": [
        "#Задача №3 (4)\n",
        "Напишите алгоритм Витерби для восстановления последовательности скрытых состояний марковской модели из второго задаания. Воспользуйтесь им, воссстановив состояния тех последовательностей, которые вы получили во втором задании и посчитайте TP, TN, FP, FN по количеству правильно или ошибочно предсказанных позиций из CpG остравков."
      ],
      "metadata": {
        "id": "-3OolP4n7MO5"
      }
    },
    {
      "cell_type": "code",
      "source": [
        "emission_probabilities = [non_cpg_island, cpg_island]\n",
        "tp = [[0.995, 0.005], [0.05, 0.95]]\n",
        "#1 = +\n",
        "#0 = -\n",
        "print(emission_probabilities)"
      ],
      "metadata": {
        "colab": {
          "base_uri": "https://localhost:8080/"
        },
        "id": "og3ZpBUFdvlF",
        "outputId": "7d3953fb-d56e-42fa-fa7d-1cf3b9c425c8"
      },
      "execution_count": 9,
      "outputs": [
        {
          "output_type": "stream",
          "name": "stdout",
          "text": [
            "[{'A': 0.28929861153616176, 'T': 0.3161168211758391, 'G': 0.1984481597792771, 'C': 0.19613640750872205}, {'A': 0.20246225382932168, 'T': 0.20286433260393874, 'C': 0.29639660831509845, 'G': 0.29827680525164113}]\n"
          ]
        }
      ]
    },
    {
      "cell_type": "code",
      "source": [
        "def viterbi(observations, states=[0, 1],\n",
        "            transition_probabilities=tp,\n",
        "            emission_probabilities=emission_probabilities,\n",
        "            initial_probabilities=[0, 1]):\n",
        "    \"\"\"Алгоритм Витерби.\n",
        "    Args:\n",
        "        observations: последовательность наблюдений.\n",
        "        states: список возможных скрытых состояний.\n",
        "        transition_probabilities: матрица вероятностей переходов между состояниями.\n",
        "        emission_probabilities: матрица вероятностей генерации наблюдений в каждом состоянии.\n",
        "        initial_probabilities: вектор вероятностей начальных состояний.\n",
        "    \"\"\"\n",
        "\n",
        "    T = len(observations)  # Количество наблюдений\n",
        "    N = len(states)  # Количество состояний\n",
        "\n",
        "    # dp = np.zeros((T, N))\n",
        "    dp = np.full((T, N), -np.inf)\n",
        "    backptr = np.zeros((T, N), dtype=int)\n",
        "\n",
        "    for i in range(N):\n",
        "        dp[0][i] = np.log(initial_probabilities[i]) + np.log(emission_probabilities[i][observations[0]])\n",
        "    # Рекурсия\n",
        "    for t in range(1, T):\n",
        "        for i in range(N):\n",
        "            j = 0\n",
        "            prob0 = dp[t-1][j] + np.log(transition_probabilities[j][i]) + np.log(emission_probabilities[i][observations[t]])\n",
        "            j = 1\n",
        "            prob1 = dp[t-1][j] + np.log(transition_probabilities[j][i]) + np.log(emission_probabilities[i][observations[t]])\n",
        "            if prob1 > prob0:\n",
        "                dp[t][i] = prob1\n",
        "                backptr[t][i] = 1\n",
        "            else:\n",
        "                dp[t][i] = prob0\n",
        "                backptr[t][i] = 0\n",
        "    # Обратное отслеживание\n",
        "    path = []\n",
        "    state = np.argmax(dp[T-1])\n",
        "    path.append(state)\n",
        "    for t in range(T-1, 0, -1):\n",
        "        state = backptr[t][state]\n",
        "        path.append(state)\n",
        "\n",
        "    return path[::-1]"
      ],
      "metadata": {
        "id": "XKQTkYFY7n7J"
      },
      "execution_count": 10,
      "outputs": []
    },
    {
      "cell_type": "code",
      "source": [
        "def calculate_metrics(true_sequence, predicted_sequence):\n",
        "    TP, TN, FP, FN = 0, 0, 0, 0\n",
        "    l = len(true_sequence)\n",
        "    for i in range(len(true_sequence)):\n",
        "        if true_sequence[i] == \"+\" and predicted_sequence[i] == 1:\n",
        "            TP += 1\n",
        "        elif true_sequence[i] == \"-\" and predicted_sequence[i] == 0:\n",
        "            TN += 1\n",
        "        elif true_sequence[i] == \"-\" and predicted_sequence[i] == 1:\n",
        "            FP += 1\n",
        "        else:\n",
        "            FN += 1\n",
        "\n",
        "    return f'TP={TP}, TN={TN/l*100 :.3f} %, FP={FP}, FN={FN/l*100 :.3f} % '"
      ],
      "metadata": {
        "id": "diC3pK_ARMjn"
      },
      "execution_count": 13,
      "outputs": []
    },
    {
      "cell_type": "code",
      "source": [
        "for seq, state in sequences:\n",
        "  new_state = viterbi(seq)\n",
        "  print(calculate_metrics(state, new_state))"
      ],
      "metadata": {
        "colab": {
          "base_uri": "https://localhost:8080/"
        },
        "id": "2c_sRkAsRmE0",
        "outputId": "25864883-4c59-4cb9-f7a0-8f75f9636f24"
      },
      "execution_count": 14,
      "outputs": [
        {
          "output_type": "stream",
          "name": "stderr",
          "text": [
            "<ipython-input-10-2a5bd5f24042>:22: RuntimeWarning: divide by zero encountered in log\n",
            "  dp[0][i] = np.log(initial_probabilities[i]) + np.log(emission_probabilities[i][observations[0]])\n"
          ]
        },
        {
          "output_type": "stream",
          "name": "stdout",
          "text": [
            "TP=367, TN=90.307 %, FP=24, FN=9.109 % \n",
            "TP=293, TN=91.482 %, FP=58, FN=8.117 % \n",
            "TP=86, TN=90.692 %, FP=21, FN=9.075 % \n",
            "TP=428, TN=90.239 %, FP=143, FN=9.127 % \n",
            "TP=90, TN=92.126 %, FP=64, FN=5.869 % \n",
            "TP=377, TN=90.209 %, FP=102, FN=8.646 % \n",
            "TP=555, TN=90.669 %, FP=44, FN=8.608 % \n",
            "TP=0, TN=90.637 %, FP=1, FN=9.361 % \n",
            "TP=0, TN=92.022 %, FP=1, FN=7.965 % \n",
            "TP=173, TN=91.167 %, FP=53, FN=8.596 % \n",
            "TP=69, TN=92.621 %, FP=5, FN=7.265 % \n",
            "TP=142, TN=90.533 %, FP=8, FN=9.135 % \n",
            "TP=176, TN=90.703 %, FP=87, FN=8.670 % \n",
            "TP=277, TN=91.369 %, FP=90, FN=8.023 % \n",
            "TP=0, TN=93.012 %, FP=2, FN=6.977 % \n",
            "TP=336, TN=90.815 %, FP=71, FN=8.640 % \n",
            "TP=203, TN=91.942 %, FP=53, FN=7.677 % \n",
            "TP=38, TN=91.777 %, FP=82, FN=8.012 % \n",
            "TP=524, TN=90.873 %, FP=69, FN=8.396 % \n",
            "TP=113, TN=88.951 %, FP=2, FN=10.037 % \n"
          ]
        }
      ]
    },
    {
      "cell_type": "markdown",
      "source": [
        "#Задача №4 (4)\n",
        "Напишите алгоритм вперед назад для модели из второго задания. Пользуясь этим алгоритмом найдите вероятности того, что модель находилась в состоянии + для каждой позиции строк из второго задания. Устанавливая различные пороговые значения, определите позиции соответствующие CpG островкам и посчитайте TP. Постройте график зависимости TP от выбранного порогового значения. Есть ли пороговые значения при которых TP больше чем в задании №3?"
      ],
      "metadata": {
        "id": "V7QGBvg57oZS"
      }
    },
    {
      "cell_type": "code",
      "source": [
        "def forward_backward(observations, states, transition_probabilities, emission_probabilities, initial_probabilities):\n",
        "    \"\"\"Алгоритм вперед-назад.\n",
        "    Returns:\n",
        "        Матрица вероятностей нахождения в каждом состоянии в каждый момент времени.\n",
        "    \"\"\"\n",
        "\n",
        "    T = len(observations)  # Количество наблюдений\n",
        "    N = len(states)  # Количество состояний\n",
        "\n",
        "    # вперед - a\n",
        "    alpha = np.zeros((T, N))\n",
        "    beta = np.zeros((T, N))\n",
        "\n",
        "    for i in range(N):\n",
        "        alpha[0][i] = np.log(initial_probabilities[i]*(emission_probabilities[i][observations[0]]))\n",
        "    for t in range(1, T):\n",
        "        for i in range(N):\n",
        "            for j in range(N):\n",
        "                # alpha[t][i] += alpha[t-1][j] * transition_probabilities[j][i] * emission_probabilities[i][observations[t]]\n",
        "                alpha[t][i] += np.exp(alpha[t-1][j])*transition_probabilities[j][i]\n",
        "            alpha[t][i] = np.log(alpha[t][i]) + np.log(emission_probabilities[i][observations[t]])\n",
        "    # Вычисление вероятностей назад\n",
        "    beta[T-1] = np.ones(N)\n",
        "    for t in range(T-2, -1, -1):\n",
        "        for i in range(N):\n",
        "            for j in range(N):\n",
        "                beta[t][i] += transition_probabilities[i][j] * emission_probabilities[j][observations[t+1]] * np.exp(beta[t+1][j])\n",
        "            beta[t][i] = np.log(beta[t][i])\n",
        "    # P  = np.log(np.sum(np.exp(alpha[:1]), emission_probabilities[i][observations[t]]))\n",
        "    gamma = alpha + beta\n",
        "    # gamma /= np.sum(gamma, axis=1)[:, np.newaxis]\n",
        "\n",
        "    return gamma"
      ],
      "metadata": {
        "id": "0bwIUmJFvKBU"
      },
      "execution_count": 16,
      "outputs": []
    },
    {
      "cell_type": "code",
      "source": [
        "def find_cpg_islands(gamma, threshold):\n",
        "    cpg_islands = []\n",
        "    in_island = False\n",
        "    for t in range(gamma.shape[0]):\n",
        "        if gamma[t][0] > threshold:\n",
        "            if not in_island:\n",
        "                cpg_islands.append(t)\n",
        "            in_island = True\n",
        "        else:\n",
        "            in_island = False\n",
        "\n",
        "    return cpg_islands"
      ],
      "metadata": {
        "id": "RJt4HLnCwX10"
      },
      "execution_count": 17,
      "outputs": []
    },
    {
      "cell_type": "code",
      "source": [
        "def plot_tp_vs_threshold(gamma, observations):\n",
        "    thresholds = np.linspace(0, 0.5, 100)\n",
        "    tps = []\n",
        "\n",
        "    for threshold in thresholds:\n",
        "        cpg_islands = find_cpg_islands(gamma, threshold)\n",
        "        tp = 0\n",
        "        for cpg_island in cpg_islands:\n",
        "            if observations[cpg_island] == 1:\n",
        "                tp += 1\n",
        "\n",
        "        tps.append(tp)\n",
        "\n",
        "    plt.plot(thresholds, tps)\n",
        "    plt.xlabel(\"Threshold\")\n",
        "    plt.ylabel(\"TP\")\n",
        "    plt.show()"
      ],
      "metadata": {
        "id": "lUNvWu0iwfRB"
      },
      "execution_count": 18,
      "outputs": []
    },
    {
      "cell_type": "code",
      "source": [
        "gamma = forward_backward(sequences[0][0], [0, 1], tp, emission_probabilities, [0, 1])\n",
        "\n",
        "cpg_islands = find_cpg_islands(gamma, 0.5)\n",
        "print(cpg_islands)"
      ],
      "metadata": {
        "colab": {
          "base_uri": "https://localhost:8080/"
        },
        "id": "Bpcat_aQw4ay",
        "outputId": "68db4bfa-bfd5-40fa-8109-6daa37ffa6a2"
      },
      "execution_count": 19,
      "outputs": [
        {
          "output_type": "stream",
          "name": "stderr",
          "text": [
            "<ipython-input-16-fbfd0f121889>:15: RuntimeWarning: divide by zero encountered in log\n",
            "  alpha[0][i] = np.log(initial_probabilities[i]*(emission_probabilities[i][observations[0]]))\n",
            "<ipython-input-16-fbfd0f121889>:21: RuntimeWarning: divide by zero encountered in log\n",
            "  alpha[t][i] = np.log(alpha[t][i]) + np.log(emission_probabilities[i][observations[t]])\n",
            "<ipython-input-16-fbfd0f121889>:28: RuntimeWarning: divide by zero encountered in log\n",
            "  beta[t][i] = np.log(beta[t][i])\n"
          ]
        },
        {
          "output_type": "stream",
          "name": "stdout",
          "text": [
            "[]\n"
          ]
        }
      ]
    },
    {
      "cell_type": "code",
      "source": [
        "plot_tp_vs_threshold(gamma, sequences[0][0])"
      ],
      "metadata": {
        "colab": {
          "base_uri": "https://localhost:8080/",
          "height": 449
        },
        "id": "dXPrWhqZctX9",
        "outputId": "cde1d5a0-0b4e-49fc-ee9f-c7e963c2b4f0"
      },
      "execution_count": 20,
      "outputs": [
        {
          "output_type": "display_data",
          "data": {
            "text/plain": [
              "<Figure size 640x480 with 1 Axes>"
            ],
            "image/png": "[encoded data removed]"
          },
          "metadata": {}
        }
      ]
    }
  ]
}